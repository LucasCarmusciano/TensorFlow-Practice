{
 "cells": [
  {
   "cell_type": "markdown",
   "id": "4d1e74e2",
   "metadata": {},
   "source": [
    "# Transfer Learning with TensorFlow Part 3: Scaling up"
   ]
  },
  {
   "cell_type": "code",
   "execution_count": 4,
   "id": "221af814",
   "metadata": {},
   "outputs": [
    {
     "name": "stdout",
     "output_type": "stream",
     "text": [
      "--2024-01-11 19:51:25--  https://raw.githubusercontent.com/LucasCarmusciano/TensorFlow-Practice/main/extras/helper_functions.py\n",
      "Resolviendo raw.githubusercontent.com (raw.githubusercontent.com)... 185.199.109.133, 185.199.111.133, 185.199.108.133, ...\n",
      "Conectando con raw.githubusercontent.com (raw.githubusercontent.com)[185.199.109.133]:443... conectado.\n",
      "Petición HTTP enviada, esperando respuesta... 200 OK\n",
      "Longitud: 10245 (10K) [text/plain]\n",
      "Grabando a: «helper_functions.py.1»\n",
      "\n",
      "helper_functions.py 100%[===================>]  10.00K  --.-KB/s    en 0s      \n",
      "\n",
      "2024-01-11 19:51:25 (22.8 MB/s) - «helper_functions.py.1» guardado [10245/10245]\n",
      "\n"
     ]
    }
   ],
   "source": [
    "# Creating helper functions\n",
    "!wget https://raw.githubusercontent.com/LucasCarmusciano/TensorFlow-Practice/main/extras/helper_functions.py"
   ]
  },
  {
   "cell_type": "code",
   "execution_count": 5,
   "id": "7432be77",
   "metadata": {},
   "outputs": [],
   "source": [
    "# Import series of helper functions for our notebook\n",
    "from helper_functions import create_tensorboard_callback, plot_loss_curves, unzip_data, compare_historys, walk_through_dir"
   ]
  },
  {
   "cell_type": "markdown",
   "id": "9e413ef9",
   "metadata": {},
   "source": [
    "## 101 Food Classes: working with less data\n",
    "\n",
    "The goal is to beat the original Food101 paper with 10% of the training data, so let's download it."
   ]
  },
  {
   "cell_type": "code",
   "execution_count": 3,
   "id": "8b43f186",
   "metadata": {},
   "outputs": [
    {
     "name": "stdout",
     "output_type": "stream",
     "text": [
      "--2024-01-11 19:46:32--  https://storage.googleapis.com/ztm_tf_course/food_vision/101_food_classes_10_percent.zip\n",
      "Resolviendo storage.googleapis.com (storage.googleapis.com)... 142.251.134.91, 216.58.202.91, 142.250.79.155, ...\n",
      "Conectando con storage.googleapis.com (storage.googleapis.com)[142.251.134.91]:443... conectado.\n",
      "Petición HTTP enviada, esperando respuesta... 200 OK\n",
      "Longitud: 1625420029 (1.5G) [application/zip]\n",
      "Grabando a: «101_food_classes_10_percent.zip»\n",
      "\n",
      "101_food_classes_10 100%[===================>]   1.51G  9.23MB/s    en 2m 50s  \n",
      "\n",
      "2024-01-11 19:49:23 (9.10 MB/s) - «101_food_classes_10_percent.zip» guardado [1625420029/1625420029]\n",
      "\n"
     ]
    }
   ],
   "source": [
    "!wget https://storage.googleapis.com/ztm_tf_course/food_vision/101_food_classes_10_percent.zip\n",
    "unzip_data(\"101_food_classes_10_percent.zip\")\n",
    "\n",
    "train_dir = \"101_food_classes_10_percent/train/\"\n",
    "test_dir = \"101_food_classes_10_percent/test/\""
   ]
  },
  {
   "cell_type": "code",
   "execution_count": null,
   "id": "0a22ea27",
   "metadata": {},
   "outputs": [],
   "source": []
  }
 ],
 "metadata": {
  "kernelspec": {
   "display_name": "Python 3 (ipykernel)",
   "language": "python",
   "name": "python3"
  },
  "language_info": {
   "codemirror_mode": {
    "name": "ipython",
    "version": 3
   },
   "file_extension": ".py",
   "mimetype": "text/x-python",
   "name": "python",
   "nbconvert_exporter": "python",
   "pygments_lexer": "ipython3",
   "version": "3.10.9"
  }
 },
 "nbformat": 4,
 "nbformat_minor": 5
}

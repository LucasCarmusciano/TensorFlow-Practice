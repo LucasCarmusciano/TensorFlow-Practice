{
 "cells": [
  {
   "cell_type": "markdown",
   "id": "34d703cf",
   "metadata": {},
   "source": [
    "# 1. Import the data\n"
   ]
  },
  {
   "cell_type": "code",
   "execution_count": 15,
   "id": "c1bb8107",
   "metadata": {},
   "outputs": [],
   "source": [
    "import requests\n",
    "import zipfile\n",
    "import os\n",
    "\n",
    "# URL of the file to download\n",
    "url = \"https://storage.googleapis.com/ztm_tf_course/food_vision/10_food_classes_all_data.zip\"\n",
    "\n",
    "# Local filename\n",
    "filename = \"10_food_classes_all_data.zip\"\n",
    "\n",
    "# Download the file\n",
    "response = requests.get(url)\n",
    "with open(filename, 'wb') as file:\n",
    "    file.write(response.content)\n",
    "\n",
    "# Unzip the file\n",
    "zip_ref = zipfile.ZipFile(filename, 'r')\n",
    "zip_ref.extractall()\n",
    "zip_ref.close()\n",
    "\n",
    "# Remove the zip file\n",
    "os.remove(filename)"
   ]
  },
  {
   "cell_type": "code",
   "execution_count": null,
   "id": "4a763ae9",
   "metadata": {},
   "outputs": [],
   "source": []
  }
 ],
 "metadata": {
  "kernelspec": {
   "display_name": "Python 3 (ipykernel)",
   "language": "python",
   "name": "python3"
  },
  "language_info": {
   "codemirror_mode": {
    "name": "ipython",
    "version": 3
   },
   "file_extension": ".py",
   "mimetype": "text/x-python",
   "name": "python",
   "nbconvert_exporter": "python",
   "pygments_lexer": "ipython3",
   "version": "3.10.9"
  }
 },
 "nbformat": 4,
 "nbformat_minor": 5
}

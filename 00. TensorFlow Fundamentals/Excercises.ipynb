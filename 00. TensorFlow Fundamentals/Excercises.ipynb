{
 "cells": [
  {
   "cell_type": "code",
   "execution_count": 1,
   "id": "e6cd1aa4",
   "metadata": {},
   "outputs": [
    {
     "name": "stdout",
     "output_type": "stream",
     "text": [
      "2.15.0\n"
     ]
    }
   ],
   "source": [
    "import tensorflow as tf\n",
    "import numpy as np\n",
    "print(tf.__version__)"
   ]
  },
  {
   "cell_type": "code",
   "execution_count": 2,
   "id": "6fa40ddb",
   "metadata": {},
   "outputs": [
    {
     "data": {
      "text/plain": [
       "(<tf.Tensor: shape=(5, 300), dtype=float16, numpy=\n",
       " array([[0.335  , 0.3916 , 0.05273, ..., 0.8037 , 0.825  , 0.2334 ],\n",
       "        [0.922  , 0.03516, 0.1797 , ..., 0.0781 , 0.0635 , 0.0703 ],\n",
       "        [0.706  , 0.3857 , 0.083  , ..., 0.6143 , 0.2266 , 0.2334 ],\n",
       "        [0.76   , 0.7256 , 0.3408 , ..., 0.2705 , 0.1465 , 0.2725 ],\n",
       "        [0.07227, 0.6016 , 0.1074 , ..., 0.4434 , 0.21   , 0.03906]],\n",
       "       dtype=float16)>,\n",
       " <tf.Tensor: shape=(5, 300), dtype=float16, numpy=\n",
       " array([[0.657  , 0.551  , 0.7617 , ..., 0.3184 , 0.5156 , 0.498  ],\n",
       "        [0.09766, 0.2715 , 0.8584 , ..., 0.2715 , 0.4844 , 0.7744 ],\n",
       "        [0.294  , 0.709  , 0.1885 , ..., 0.58   , 0.413  , 0.618  ],\n",
       "        [0.2012 , 0.789  , 0.83   , ..., 0.1523 , 0.9727 , 0.11035],\n",
       "        [0.4043 , 0.08105, 0.953  , ..., 0.5234 , 0.1328 , 0.5186 ]],\n",
       "       dtype=float16)>)"
      ]
     },
     "execution_count": 2,
     "metadata": {},
     "output_type": "execute_result"
    }
   ],
   "source": [
    "# Excercise 3 - Create two tensors containing random values between 0 and 1 with shape [5, 300]\n",
    "ten1 = tf.random.uniform(shape=[5,300], minval=0, maxval=1, dtype=tf.float16)\n",
    "ten2 = tf.random.uniform(shape=[5,300], minval=0, maxval=1, dtype=tf.float16)\n",
    "ten1, ten2"
   ]
  },
  {
   "cell_type": "code",
   "execution_count": 3,
   "id": "20aa87d1",
   "metadata": {},
   "outputs": [
    {
     "data": {
      "text/plain": [
       "<tf.Tensor: shape=(5, 5), dtype=float16, numpy=\n",
       "array([[76.44, 77.9 , 74.4 , 76.2 , 81.7 ],\n",
       "       [73.94, 75.9 , 70.5 , 74.3 , 79.5 ],\n",
       "       [76.25, 75.9 , 73.2 , 75.1 , 82.1 ],\n",
       "       [77.5 , 78.6 , 75.25, 80.56, 83.  ],\n",
       "       [73.56, 72.1 , 68.44, 74.8 , 74.1 ]], dtype=float16)>"
      ]
     },
     "execution_count": 3,
     "metadata": {},
     "output_type": "execute_result"
    }
   ],
   "source": [
    "# Excercise 4 - Multiply the two tensors you created in 3 using matrix multiplication.\n",
    "tf.matmul(ten1,tf.transpose(ten2))"
   ]
  },
  {
   "cell_type": "code",
   "execution_count": 4,
   "id": "ea4a63f5",
   "metadata": {},
   "outputs": [
    {
     "data": {
      "text/plain": [
       "<tf.Tensor: shape=(5, 5), dtype=float16, numpy=\n",
       "array([[76.44, 77.9 , 74.4 , 76.2 , 81.7 ],\n",
       "       [73.94, 75.9 , 70.5 , 74.3 , 79.5 ],\n",
       "       [76.25, 75.9 , 73.2 , 75.1 , 82.1 ],\n",
       "       [77.5 , 78.6 , 75.25, 80.56, 83.  ],\n",
       "       [73.56, 72.1 , 68.44, 74.8 , 74.1 ]], dtype=float16)>"
      ]
     },
     "execution_count": 4,
     "metadata": {},
     "output_type": "execute_result"
    }
   ],
   "source": [
    "# Excercise 5 - Multiply the two tensors you created in 3 using dot product.\n",
    "tf.tensordot(ten1, tf.transpose(ten2), axes = 1)"
   ]
  },
  {
   "cell_type": "code",
   "execution_count": 5,
   "id": "78ac62ca",
   "metadata": {},
   "outputs": [
    {
     "data": {
      "text/plain": [
       "<tf.Tensor: shape=(224, 224, 3), dtype=float16, numpy=\n",
       "array([[[0.1484 , 0.7773 , 0.716  ],\n",
       "        [0.708  , 0.8555 , 0.07227],\n",
       "        [0.5186 , 0.2588 , 0.0967 ],\n",
       "        ...,\n",
       "        [0.1807 , 0.59   , 0.9062 ],\n",
       "        [0.0762 , 0.4375 , 0.8984 ],\n",
       "        [0.04785, 0.658  , 0.5605 ]],\n",
       "\n",
       "       [[0.5303 , 0.871  , 0.07227],\n",
       "        [0.7324 , 0.374  , 0.3994 ],\n",
       "        [0.0957 , 0.01172, 0.2051 ],\n",
       "        ...,\n",
       "        [0.4336 , 0.839  , 0.4902 ],\n",
       "        [0.2266 , 0.1797 , 0.1533 ],\n",
       "        [0.3564 , 0.9385 , 0.5156 ]],\n",
       "\n",
       "       [[0.421  , 0.715  , 0.454  ],\n",
       "        [0.658  , 0.672  , 0.9297 ],\n",
       "        [0.543  , 0.782  , 0.5547 ],\n",
       "        ...,\n",
       "        [0.7    , 0.01758, 0.1787 ],\n",
       "        [0.3096 , 0.209  , 0.8623 ],\n",
       "        [0.8076 , 0.783  , 0.8203 ]],\n",
       "\n",
       "       ...,\n",
       "\n",
       "       [[0.09375, 0.707  , 0.3262 ],\n",
       "        [0.1797 , 0.6064 , 0.8525 ],\n",
       "        [0.3242 , 0.8213 , 0.1826 ],\n",
       "        ...,\n",
       "        [0.746  , 0.01172, 0.3857 ],\n",
       "        [0.377  , 0.2432 , 0.084  ],\n",
       "        [0.3604 , 0.249  , 0.618  ]],\n",
       "\n",
       "       [[0.699  , 0.9043 , 0.168  ],\n",
       "        [0.1914 , 0.1562 , 0.884  ],\n",
       "        [0.2031 , 0.5566 , 0.1807 ],\n",
       "        ...,\n",
       "        [0.718  , 0.7373 , 0.0967 ],\n",
       "        [0.2715 , 0.0879 , 0.2793 ],\n",
       "        [0.6533 , 0.8203 , 0.6846 ]],\n",
       "\n",
       "       [[0.1367 , 0.587  , 0.9854 ],\n",
       "        [0.5    , 0.126  , 0.1699 ],\n",
       "        [0.3535 , 0.9326 , 0.10645],\n",
       "        ...,\n",
       "        [0.907  , 0.952  , 0.802  ],\n",
       "        [0.1406 , 0.2656 , 0.04883],\n",
       "        [0.5625 , 0.5684 , 0.8203 ]]], dtype=float16)>"
      ]
     },
     "execution_count": 5,
     "metadata": {},
     "output_type": "execute_result"
    }
   ],
   "source": [
    "# Excercise 6 - Create a tensor with random values between 0 and 1 with shape [224, 224, 3].\n",
    "ten3 = tf.random.uniform(shape = [224, 224, 3], minval = 0, maxval = 1, dtype=tf.float16)\n",
    "ten3"
   ]
  },
  {
   "cell_type": "code",
   "execution_count": 6,
   "id": "10dae64c",
   "metadata": {},
   "outputs": [
    {
     "data": {
      "text/plain": [
       "<tf.Tensor: shape=(), dtype=float16, numpy=0.0>"
      ]
     },
     "execution_count": 6,
     "metadata": {},
     "output_type": "execute_result"
    }
   ],
   "source": [
    "# Excercise 7 - Find the min and max values of the tensor you created in 6 along the first axis.\n",
    "tf.reduce_min(ten3[0])"
   ]
  },
  {
   "cell_type": "code",
   "execution_count": 10,
   "id": "6bcef27b",
   "metadata": {},
   "outputs": [
    {
     "data": {
      "text/plain": [
       "<tf.Tensor: shape=(224, 224, 3), dtype=float32, numpy=\n",
       "array([[[4.3835616e-01, 4.0948761e-01, 2.4513066e-01],\n",
       "        [9.9103975e-01, 4.7530711e-01, 6.0324740e-01],\n",
       "        [7.6419771e-01, 8.7878799e-01, 1.3177073e-01],\n",
       "        ...,\n",
       "        [4.1735291e-02, 8.0937958e-01, 2.7666819e-01],\n",
       "        [6.1631584e-01, 5.8642149e-01, 6.9790125e-02],\n",
       "        [2.4134552e-01, 8.4474552e-01, 7.2156763e-01]],\n",
       "\n",
       "       [[2.4950731e-01, 2.5064993e-01, 3.9622843e-01],\n",
       "        [1.8945813e-01, 6.6441631e-01, 7.1177483e-03],\n",
       "        [8.3545530e-01, 1.8425727e-01, 4.7628701e-01],\n",
       "        ...,\n",
       "        [4.3089986e-01, 1.8350613e-01, 4.9358547e-01],\n",
       "        [4.9243557e-01, 5.8199823e-01, 6.4488888e-02],\n",
       "        [9.3474710e-01, 7.8193319e-01, 4.7936487e-01]],\n",
       "\n",
       "       [[3.7930739e-01, 9.7065330e-01, 8.7765479e-01],\n",
       "        [9.0775251e-02, 6.6935980e-01, 4.8578775e-01],\n",
       "        [1.5689433e-01, 4.4758916e-01, 6.4835572e-01],\n",
       "        ...,\n",
       "        [7.3679566e-01, 5.1067400e-01, 2.3138070e-01],\n",
       "        [7.6435447e-01, 5.6168807e-01, 9.7855604e-01],\n",
       "        [5.8372641e-01, 8.0549157e-01, 1.4904046e-01]],\n",
       "\n",
       "       ...,\n",
       "\n",
       "       [[4.9423778e-01, 5.5981863e-01, 3.1208146e-01],\n",
       "        [2.5129497e-01, 6.5583622e-01, 4.3492436e-02],\n",
       "        [1.3222325e-01, 5.8746183e-01, 7.9826951e-02],\n",
       "        ...,\n",
       "        [6.8826866e-01, 8.1346774e-01, 1.6524398e-01],\n",
       "        [9.9105024e-01, 2.0041895e-01, 9.9656534e-01],\n",
       "        [6.9736171e-01, 1.7696083e-01, 5.1152742e-01]],\n",
       "\n",
       "       [[2.4330556e-01, 7.1837068e-01, 4.0373290e-01],\n",
       "        [4.3591559e-01, 6.4257514e-01, 8.3000755e-01],\n",
       "        [1.2963486e-01, 6.4452934e-01, 9.5903647e-01],\n",
       "        ...,\n",
       "        [9.9506712e-01, 6.7343712e-03, 8.0928886e-01],\n",
       "        [2.6873183e-01, 5.0083578e-01, 5.8807373e-01],\n",
       "        [6.4469624e-01, 4.6384108e-01, 2.1053720e-01]],\n",
       "\n",
       "       [[6.6931725e-01, 4.3225586e-01, 6.6854763e-01],\n",
       "        [1.7933464e-01, 7.7823043e-01, 6.0621297e-01],\n",
       "        [4.0455389e-01, 7.6429772e-01, 9.3630779e-01],\n",
       "        ...,\n",
       "        [7.4376929e-01, 4.5342779e-01, 8.1659579e-01],\n",
       "        [2.5562060e-01, 2.0350957e-01, 1.8757927e-01],\n",
       "        [9.4410205e-01, 2.5001073e-01, 8.6736679e-04]]], dtype=float32)>"
      ]
     },
     "execution_count": 10,
     "metadata": {},
     "output_type": "execute_result"
    }
   ],
   "source": [
    "# Excercise 8 - Created a tensor with random values of shape [1, 224, 224, 3] then squeeze it to change the shape to [224, 224, 3].\n",
    "ten4 = tf.random.uniform(shape = [1,224,224,3], minval = 0, maxval = 1)\n",
    "ten4 = tf.squeeze(ten4)\n",
    "ten4"
   ]
  },
  {
   "cell_type": "code",
   "execution_count": 11,
   "id": "34e1ad68",
   "metadata": {},
   "outputs": [
    {
     "data": {
      "text/plain": [
       "<tf.Tensor: shape=(10,), dtype=int32, numpy=array([4, 8, 9, 6, 7, 2, 0, 3, 5, 1], dtype=int32)>"
      ]
     },
     "execution_count": 11,
     "metadata": {},
     "output_type": "execute_result"
    }
   ],
   "source": [
    "# Excercise 9 - Create a tensor with shape [10] using your own choice of values, then find the index which has the maximum value.\n",
    "ten5 = tf.constant(tf.range(0,10))\n",
    "ten5 = tf.random.shuffle(ten5)\n",
    "ten5"
   ]
  },
  {
   "cell_type": "code",
   "execution_count": 12,
   "id": "742bbaf0",
   "metadata": {},
   "outputs": [
    {
     "data": {
      "text/plain": [
       "<tf.Tensor: shape=(10, 10), dtype=float32, numpy=\n",
       "array([[0., 0., 0., 0., 1., 0., 0., 0., 0., 0.],\n",
       "       [0., 0., 0., 0., 0., 0., 0., 0., 1., 0.],\n",
       "       [0., 0., 0., 0., 0., 0., 0., 0., 0., 1.],\n",
       "       [0., 0., 0., 0., 0., 0., 1., 0., 0., 0.],\n",
       "       [0., 0., 0., 0., 0., 0., 0., 1., 0., 0.],\n",
       "       [0., 0., 1., 0., 0., 0., 0., 0., 0., 0.],\n",
       "       [1., 0., 0., 0., 0., 0., 0., 0., 0., 0.],\n",
       "       [0., 0., 0., 1., 0., 0., 0., 0., 0., 0.],\n",
       "       [0., 0., 0., 0., 0., 1., 0., 0., 0., 0.],\n",
       "       [0., 1., 0., 0., 0., 0., 0., 0., 0., 0.]], dtype=float32)>"
      ]
     },
     "execution_count": 12,
     "metadata": {},
     "output_type": "execute_result"
    }
   ],
   "source": [
    "# Excercise 10 - One-hot encode the tensor you created in 9.\n",
    "tf.one_hot(ten5, depth=10)"
   ]
  },
  {
   "cell_type": "code",
   "execution_count": null,
   "id": "f7b1dc13",
   "metadata": {},
   "outputs": [],
   "source": []
  }
 ],
 "metadata": {
  "kernelspec": {
   "display_name": "Python 3 (ipykernel)",
   "language": "python",
   "name": "python3"
  },
  "language_info": {
   "codemirror_mode": {
    "name": "ipython",
    "version": 3
   },
   "file_extension": ".py",
   "mimetype": "text/x-python",
   "name": "python",
   "nbconvert_exporter": "python",
   "pygments_lexer": "ipython3",
   "version": "3.10.9"
  }
 },
 "nbformat": 4,
 "nbformat_minor": 5
}

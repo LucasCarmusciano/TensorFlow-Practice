{
 "cells": [
  {
   "cell_type": "markdown",
   "id": "ea62078e",
   "metadata": {},
   "source": [
    "# Introduction to NLP Fundamentals in Tensorflow"
   ]
  },
  {
   "cell_type": "markdown",
   "id": "fbc25f29",
   "metadata": {},
   "source": [
    "---\n",
    "### Typical architecture:\n",
    "\n",
    "<table style=\"font-size: 17px;\">\n",
    "  <tr>\n",
    "    <th style=\"text-align: center;\">Hyperparameter/Layer type</th>\n",
    "    <th style=\"text-align: center;\">What does it do?</th> \n",
    "    <th style=\"text-align: center;\">Typical values</th>\n",
    "  </tr>\n",
    "  <tr>\n",
    "    <td style=\"text-align: left;\">Input text(s)</td>\n",
    "    <td style=\"text-align: left;\">Target texts/sequences you'd like to discover patterns in</td> \n",
    "    <td style=\"text-align: left;\">Whatever you can represent as text or sequence</td>\n",
    "  </tr>\n",
    "  <tr>\n",
    "    <td style=\"text-align: left;\">Input layer</td>\n",
    "    <td style=\"text-align: left;\">Takes in target sequence</td> \n",
    "    <td style=\"text-align: left; font-family: 'Courier New', Courier, monospace; font-size: 14px;\">input_shape = [batch_size, embedding_size] or [batch_size, sequence_shape]</td>\n",
    "  </tr>\n",
    "  <tr>\n",
    "    <td style=\"text-align: left;\">Text vectorization layer</td>\n",
    "    <td style=\"text-align: left;\">Maps input sequences to numbers</td> \n",
    "    <td style=\"text-align: left;\">Multiple, can create with <span style=\"font-size: 14px; color: blue; text-decoration: underline;\">tf.keras.layers.TextVectorization</span></td>\n",
    "  </tr>\n",
    "  <tr>\n",
    "    <td style=\"text-align: left;\">Embedding</td>\n",
    "    <td style=\"text-align: left;\">Turns mapping of text vectors to embedding matrix</td> \n",
    "<td style=\"text-align: left;\">Multiple, can create with <span style=\"font-size: 14px; color: blue; text-decoration: underline;\">tf.keras.layers.Embedding</span></td> \n",
    "  </tr>\n",
    "  <tr>\n",
    "    <td style=\"text-align: left;\">RNN cells(s)</td>\n",
    "    <td style=\"text-align: left;\">Find patterns in sequences</td>\n",
    "    <td style=\"text-align: left;\"><span style=\"font-size: 14px; color: blue; text-decoration: underline;\">SimpleRNN, LSTM, GRU</span></td>\n",
    "  </tr>\n",
    "  <tr>\n",
    "    <td style=\"text-align: left;\">Hidden activation</td>\n",
    "    <td style=\"text-align: left;\">Adds non-linearity to learned features</td>\n",
    "    <td style=\"text-align: left; font-size: 14px;\">Usually Tanh hyperbolic tangent) (<span style=\"color: blue; text-decoration: underline;\">tf.keras.activations.tanh</span>)</td>\n",
    "  </tr>\n",
    "  <tr>\n",
    "    <td style=\"text-align: left;\">Pooling layer</td>\n",
    "    <td style=\"text-align: left;\">Reduces the dimensionality of learned sequences features (usually for Conv1D models)</td>\n",
    "    <td style=\"text-align: left;\">Average (<span style=\"font-size: 14px; color: blue; text-decoration: underline;\">tf.keras.layers.GlobalAveragePooling1D</span>) or Max (<span style=\"font-size: 14px; color: blue; text-decoration: underline;\">tf.keras.layers.GlobalMaxPool1D</span>)</td>\n",
    "  </tr>\n",
    "  <tr>\n",
    "    <td style=\"text-align: left;\">Fully connected layer</td>\n",
    "    <td style=\"text-align: left;\">Further refines learned features from recurrent layers</td>\n",
    "    <td style=\"text-align: left;\"><span style=\"font-size: 14px; color: blue; text-decoration: underline;\">tf.keras.layers.Dense</span></td>\n",
    "  </tr>\n",
    "  <tr>\n",
    "    <td style=\"text-align: left;\">Output layer</td>\n",
    "    <td style=\"text-align: left;\">Takes learned features and outputs them in shape of taget labels</td>\n",
    "    <td style=\"text-align: left;font-size: 14px;\"><span style=\"font-family: 'Courier New', Courier, monospace; font-size: 14px;\">output_shape = [number_of_classes]</span> (e.g. 2 for Diaster or Not Diaster)</td>\n",
    "  </tr>\n",
    "  <tr>\n",
    "    <td style=\"text-align: left;\">Output activation</td>\n",
    "    <td style=\"text-align: left;\">Adds non-linearities to output layer</td>\n",
    "    <td style=\"text-align: left;font-size: 14px;\"><span style=\"color: blue; text-decoration: underline;\">tf.keras.activations.sigmoid</span> (binary classification) or <span style=\"font-size: 14px; color: blue; text-decoration: underline;\">tf.keras.activations.softmax</span></td>\n",
    "  </tr>\n",
    "</table>"
   ]
  },
  {
   "cell_type": "markdown",
   "id": "ce52bccc",
   "metadata": {},
   "source": [
    "### Get helper functions"
   ]
  },
  {
   "cell_type": "code",
   "execution_count": 1,
   "id": "9c43fe29",
   "metadata": {},
   "outputs": [
    {
     "name": "stdout",
     "output_type": "stream",
     "text": [
      "--2024-03-29 21:18:11--  https://raw.githubusercontent.com/mrdbourke/tensorflow-deep-learning/main/extras/helper_functions.py\n",
      "Resolviendo raw.githubusercontent.com (raw.githubusercontent.com)... 185.199.108.133, 185.199.111.133, 185.199.109.133, ...\n",
      "Conectando con raw.githubusercontent.com (raw.githubusercontent.com)[185.199.108.133]:443... conectado.\n",
      "Petición HTTP enviada, esperando respuesta... 200 OK\n",
      "Longitud: 10246 (10K) [text/plain]\n",
      "Grabando a: «helper_functions.py»\n",
      "\n",
      "helper_functions.py 100%[===================>]  10.01K  --.-KB/s    en 0s      \n",
      "\n",
      "2024-03-29 21:18:12 (31.2 MB/s) - «helper_functions.py» guardado [10246/10246]\n",
      "\n"
     ]
    }
   ],
   "source": [
    "!wget https://raw.githubusercontent.com/mrdbourke/tensorflow-deep-learning/main/extras/helper_functions.py"
   ]
  },
  {
   "cell_type": "code",
   "execution_count": 77,
   "id": "72109ac9",
   "metadata": {},
   "outputs": [],
   "source": [
    "# Import series of helper functions for the notebook\n",
    "from helper_functions import unzip_data, create_tensorboard_callback, plot_loss_curves, compare_historys, make_confusion_matrix"
   ]
  },
  {
   "cell_type": "markdown",
   "id": "cfeb6339",
   "metadata": {},
   "source": [
    "----\n",
    "## Get dataset\n",
    "\n",
    "I'm gonna use the *'Keaggle's introduction to NLP'* dataset (tweets labelled as diaster or not diaster)."
   ]
  },
  {
   "cell_type": "code",
   "execution_count": 3,
   "id": "79f10087",
   "metadata": {},
   "outputs": [
    {
     "name": "stdout",
     "output_type": "stream",
     "text": [
      "--2024-03-29 21:23:27--  https://storage.googleapis.com/ztm_tf_course/nlp_getting_started.zip\n",
      "Resolviendo storage.googleapis.com (storage.googleapis.com)... 142.250.79.91, 142.251.134.27, 142.250.79.155, ...\n",
      "Conectando con storage.googleapis.com (storage.googleapis.com)[142.250.79.91]:443... conectado.\n",
      "Petición HTTP enviada, esperando respuesta... 200 OK\n",
      "Longitud: 607343 (593K) [application/zip]\n",
      "Grabando a: «nlp_getting_started.zip»\n",
      "\n",
      "nlp_getting_started 100%[===================>] 593.11K   762KB/s    en 0.8s    \n",
      "\n",
      "2024-03-29 21:23:28 (762 KB/s) - «nlp_getting_started.zip» guardado [607343/607343]\n",
      "\n"
     ]
    }
   ],
   "source": [
    "# Download data (same as from Kaggle)\n",
    "!wget \"https://storage.googleapis.com/ztm_tf_course/nlp_getting_started.zip\"\n",
    "\n",
    "# Unzip data\n",
    "unzip_data(\"nlp_getting_started.zip\")"
   ]
  },
  {
   "cell_type": "markdown",
   "id": "598db413",
   "metadata": {},
   "source": [
    "---\n",
    "## Visualizing a text dataset 📊"
   ]
  },
  {
   "cell_type": "code",
   "execution_count": 4,
   "id": "dfc8ce0d",
   "metadata": {},
   "outputs": [
    {
     "data": {
      "text/html": [
       "<div>\n",
       "<style scoped>\n",
       "    .dataframe tbody tr th:only-of-type {\n",
       "        vertical-align: middle;\n",
       "    }\n",
       "\n",
       "    .dataframe tbody tr th {\n",
       "        vertical-align: top;\n",
       "    }\n",
       "\n",
       "    .dataframe thead th {\n",
       "        text-align: right;\n",
       "    }\n",
       "</style>\n",
       "<table border=\"1\" class=\"dataframe\">\n",
       "  <thead>\n",
       "    <tr style=\"text-align: right;\">\n",
       "      <th></th>\n",
       "      <th>id</th>\n",
       "      <th>keyword</th>\n",
       "      <th>location</th>\n",
       "      <th>text</th>\n",
       "      <th>target</th>\n",
       "    </tr>\n",
       "  </thead>\n",
       "  <tbody>\n",
       "    <tr>\n",
       "      <th>0</th>\n",
       "      <td>1</td>\n",
       "      <td>NaN</td>\n",
       "      <td>NaN</td>\n",
       "      <td>Our Deeds are the Reason of this #earthquake M...</td>\n",
       "      <td>1</td>\n",
       "    </tr>\n",
       "    <tr>\n",
       "      <th>1</th>\n",
       "      <td>4</td>\n",
       "      <td>NaN</td>\n",
       "      <td>NaN</td>\n",
       "      <td>Forest fire near La Ronge Sask. Canada</td>\n",
       "      <td>1</td>\n",
       "    </tr>\n",
       "    <tr>\n",
       "      <th>2</th>\n",
       "      <td>5</td>\n",
       "      <td>NaN</td>\n",
       "      <td>NaN</td>\n",
       "      <td>All residents asked to 'shelter in place' are ...</td>\n",
       "      <td>1</td>\n",
       "    </tr>\n",
       "    <tr>\n",
       "      <th>3</th>\n",
       "      <td>6</td>\n",
       "      <td>NaN</td>\n",
       "      <td>NaN</td>\n",
       "      <td>13,000 people receive #wildfires evacuation or...</td>\n",
       "      <td>1</td>\n",
       "    </tr>\n",
       "    <tr>\n",
       "      <th>4</th>\n",
       "      <td>7</td>\n",
       "      <td>NaN</td>\n",
       "      <td>NaN</td>\n",
       "      <td>Just got sent this photo from Ruby #Alaska as ...</td>\n",
       "      <td>1</td>\n",
       "    </tr>\n",
       "  </tbody>\n",
       "</table>\n",
       "</div>"
      ],
      "text/plain": [
       "   id keyword location                                               text  \\\n",
       "0   1     NaN      NaN  Our Deeds are the Reason of this #earthquake M...   \n",
       "1   4     NaN      NaN             Forest fire near La Ronge Sask. Canada   \n",
       "2   5     NaN      NaN  All residents asked to 'shelter in place' are ...   \n",
       "3   6     NaN      NaN  13,000 people receive #wildfires evacuation or...   \n",
       "4   7     NaN      NaN  Just got sent this photo from Ruby #Alaska as ...   \n",
       "\n",
       "   target  \n",
       "0       1  \n",
       "1       1  \n",
       "2       1  \n",
       "3       1  \n",
       "4       1  "
      ]
     },
     "execution_count": 4,
     "metadata": {},
     "output_type": "execute_result"
    }
   ],
   "source": [
    "# Turn .csv files into pandas DataFrame's\n",
    "import pandas as pd\n",
    "train_df = pd.read_csv(\"train.csv\")\n",
    "test_df = pd.read_csv(\"test.csv\")\n",
    "train_df.head()"
   ]
  },
  {
   "cell_type": "code",
   "execution_count": 5,
   "id": "3ccb3594",
   "metadata": {},
   "outputs": [
    {
     "data": {
      "text/html": [
       "<div>\n",
       "<style scoped>\n",
       "    .dataframe tbody tr th:only-of-type {\n",
       "        vertical-align: middle;\n",
       "    }\n",
       "\n",
       "    .dataframe tbody tr th {\n",
       "        vertical-align: top;\n",
       "    }\n",
       "\n",
       "    .dataframe thead th {\n",
       "        text-align: right;\n",
       "    }\n",
       "</style>\n",
       "<table border=\"1\" class=\"dataframe\">\n",
       "  <thead>\n",
       "    <tr style=\"text-align: right;\">\n",
       "      <th></th>\n",
       "      <th>id</th>\n",
       "      <th>keyword</th>\n",
       "      <th>location</th>\n",
       "      <th>text</th>\n",
       "      <th>target</th>\n",
       "    </tr>\n",
       "  </thead>\n",
       "  <tbody>\n",
       "    <tr>\n",
       "      <th>2644</th>\n",
       "      <td>3796</td>\n",
       "      <td>destruction</td>\n",
       "      <td>NaN</td>\n",
       "      <td>So you have a new weapon that can cause un-ima...</td>\n",
       "      <td>1</td>\n",
       "    </tr>\n",
       "    <tr>\n",
       "      <th>2227</th>\n",
       "      <td>3185</td>\n",
       "      <td>deluge</td>\n",
       "      <td>NaN</td>\n",
       "      <td>The f$&amp;amp;@ing things I do for #GISHWHES Just...</td>\n",
       "      <td>0</td>\n",
       "    </tr>\n",
       "    <tr>\n",
       "      <th>5448</th>\n",
       "      <td>7769</td>\n",
       "      <td>police</td>\n",
       "      <td>UK</td>\n",
       "      <td>DT @georgegalloway: RT @Galloway4Mayor: ÛÏThe...</td>\n",
       "      <td>1</td>\n",
       "    </tr>\n",
       "    <tr>\n",
       "      <th>132</th>\n",
       "      <td>191</td>\n",
       "      <td>aftershock</td>\n",
       "      <td>NaN</td>\n",
       "      <td>Aftershock back to school kick off was great. ...</td>\n",
       "      <td>0</td>\n",
       "    </tr>\n",
       "    <tr>\n",
       "      <th>6845</th>\n",
       "      <td>9810</td>\n",
       "      <td>trauma</td>\n",
       "      <td>Montgomery County, MD</td>\n",
       "      <td>in response to trauma Children of Addicts deve...</td>\n",
       "      <td>0</td>\n",
       "    </tr>\n",
       "  </tbody>\n",
       "</table>\n",
       "</div>"
      ],
      "text/plain": [
       "        id      keyword               location  \\\n",
       "2644  3796  destruction                    NaN   \n",
       "2227  3185       deluge                    NaN   \n",
       "5448  7769       police                     UK   \n",
       "132    191   aftershock                    NaN   \n",
       "6845  9810       trauma  Montgomery County, MD   \n",
       "\n",
       "                                                   text  target  \n",
       "2644  So you have a new weapon that can cause un-ima...       1  \n",
       "2227  The f$&amp;@ing things I do for #GISHWHES Just...       0  \n",
       "5448  DT @georgegalloway: RT @Galloway4Mayor: ÛÏThe...       1  \n",
       "132   Aftershock back to school kick off was great. ...       0  \n",
       "6845  in response to trauma Children of Addicts deve...       0  "
      ]
     },
     "execution_count": 5,
     "metadata": {},
     "output_type": "execute_result"
    }
   ],
   "source": [
    "# Shuffle training dataframe\n",
    "train_df_shuffled = train_df.sample(frac=1, random_state=42) # shuffle with random_state=42 for reproducibility\n",
    "train_df_shuffled.head()"
   ]
  },
  {
   "cell_type": "code",
   "execution_count": 6,
   "id": "bfa279b6",
   "metadata": {},
   "outputs": [
    {
     "data": {
      "text/plain": [
       "0    4342\n",
       "1    3271\n",
       "Name: target, dtype: int64"
      ]
     },
     "execution_count": 6,
     "metadata": {},
     "output_type": "execute_result"
    }
   ],
   "source": [
    "# How many examples of each class?\n",
    "train_df.target.value_counts()"
   ]
  },
  {
   "cell_type": "code",
   "execution_count": 7,
   "id": "a7ae5a49",
   "metadata": {},
   "outputs": [
    {
     "name": "stdout",
     "output_type": "stream",
     "text": [
      "Total training samples: 7613\n",
      "Total test samples: 3263\n",
      "Total samples: 10876\n"
     ]
    }
   ],
   "source": [
    "# How many samples total?\n",
    "print(f\"Total training samples: {len(train_df)}\")\n",
    "print(f\"Total test samples: {len(test_df)}\")\n",
    "print(f\"Total samples: {len(train_df) + len(test_df)}\")"
   ]
  },
  {
   "cell_type": "code",
   "execution_count": 9,
   "id": "32f71681",
   "metadata": {},
   "outputs": [],
   "source": [
    "# Let's visualize some random training examples\n",
    "import random\n",
    "def see_examples(count=3):\n",
    "    random_index = random.randint(0, len(train_df)-count) # create random indexes not higher than the total number of samples\n",
    "    for row in train_df_shuffled[[\"text\", \"target\"]][random_index:random_index+count].itertuples():\n",
    "      _, text, target = row\n",
    "      print(f\"Target: {target}\", \"(real disaster)\" if target > 0 else \"(not real disaster)\")\n",
    "      print(f\"Text:\\n{text}\\n\")\n",
    "      print(\"---\\n\")"
   ]
  },
  {
   "cell_type": "code",
   "execution_count": 10,
   "id": "054b4e4b",
   "metadata": {},
   "outputs": [
    {
     "name": "stdout",
     "output_type": "stream",
     "text": [
      "Target: 0 (not real disaster)\n",
      "Text:\n",
      "@morehouse64 It appears our #Govt has lost an #Ethical and or moral relevance. This means the whole #USA population is in danger from them.\n",
      "\n",
      "---\n",
      "\n",
      "Target: 1 (real disaster)\n",
      "Text:\n",
      "Not only does he know the latest research the kiddo's GI specialist sang the volcano number from Inside Out. Now THAT is whole person care.\n",
      "\n",
      "---\n",
      "\n",
      "Target: 0 (not real disaster)\n",
      "Text:\n",
      "IS ROSS DEAD NOOOOOOOOOOOO @MikeParrActor\n",
      "\n",
      "---\n",
      "\n",
      "Target: 0 (not real disaster)\n",
      "Text:\n",
      "@RohnertParkDPS You're another one for the history books! (Thank the Justice Department!) And by the way I haven't paid income tax in 20yrs.\n",
      "\n",
      "---\n",
      "\n",
      "Target: 1 (real disaster)\n",
      "Text:\n",
      "Virgin galactic crash: early unlocking of brakes triggered structural failure: The crash of a Virgin Galactic ... http://t.co/x3VqxdouVT\n",
      "\n",
      "---\n",
      "\n"
     ]
    }
   ],
   "source": [
    "see_examples(5)"
   ]
  },
  {
   "cell_type": "markdown",
   "id": "deda6992",
   "metadata": {},
   "source": [
    "---\n",
    "## Split data into training and validation sets"
   ]
  },
  {
   "cell_type": "code",
   "execution_count": 12,
   "id": "e7efc1bd",
   "metadata": {},
   "outputs": [],
   "source": [
    "from sklearn.model_selection import train_test_split\n",
    "\n",
    "# Use train_test_split to split training data into training and validation sets\n",
    "train_sentences, val_sentences, train_labels, val_labels = train_test_split(train_df_shuffled[\"text\"].to_numpy(),\n",
    "                                                                            train_df_shuffled[\"target\"].to_numpy(),\n",
    "                                                                            test_size=0.1) # dedicate 10% of samples to validation set"
   ]
  },
  {
   "cell_type": "markdown",
   "id": "80f81339",
   "metadata": {},
   "source": [
    "---\n",
    "## Converting text into numbers 💬➡🔢\n",
    "\n",
    "In NLP, there are two main concepts for turning text into numbers\n",
    "\n",
    "* **Tokenization** - A straight mapping from word or character or sub-word to a numerical value. There are three main levels of tokenization:\n",
    "    1. ***Using word-level tokenization*** - Every word in a sequence considered a single token.\n",
    "    2. ***Character-level tokenization*** - Every character in a sequence considered a single token.\n",
    "    3. ***Sub-word tokenization*** - Every word could be considered multiple tokens (is in between word-level and character-level tokenization).\n",
    "* **Embeddings** - An embedding is a representation of natural language which can be learned.The size of the feature vector is tuneable. There are two ways to use embeddings:\n",
    "    1. ***Create your own embedding*** - Once your text has been turned into numbers (required for an embedding), you can put them through an embedding layer (such as tf.keras.layers.Embedding) and an embedding representation will be learned during model training.\n",
    "    2. ***Reuse a pre-learned embedding*** - Many pre-trained embeddings exist online, like [Word2vec embeddings](http://jalammar.github.io/illustrated-word2vec/) or [GloVe embeddings](https://nlp.stanford.edu/projects/glove/)."
   ]
  },
  {
   "cell_type": "markdown",
   "id": "8b5e55a2",
   "metadata": {},
   "source": [
    "### Text vectorization (tokenization) \n",
    "\n",
    "Helpful preprocessing layer:\n",
    "[tf.keras.layers.TextVetorization](https://www.tensorflow.org/api_docs/python/tf/keras/layers/TextVectorization)"
   ]
  },
  {
   "cell_type": "code",
   "execution_count": 22,
   "id": "58b6f535",
   "metadata": {
    "scrolled": true
   },
   "outputs": [],
   "source": [
    "import tensorflow as tf\n",
    "from tensorflow.keras.layers import TextVectorization\n",
    "\n",
    "# Use the default TextVectorization variables\n",
    "#text_vectorizer = TextVectorization(max_tokens=None, # how many words in the vocabulary (all of the different words in your text)\n",
    "#                                    standardize=\"lower_and_strip_punctuation\", # how to process text\n",
    "#                                    split=\"whitespace\", # how to split tokens\n",
    "#                                    ngrams=None, # create groups of n-words?\n",
    "#                                    output_mode=\"int\", # how to map tokens to numbers\n",
    "#                                    output_sequence_length=None) # how long should the output sequence of tokens be?\n",
    "#                                    # pad_to_max_tokens=True) # Not valid if using max_tokens=None"
   ]
  },
  {
   "cell_type": "code",
   "execution_count": 23,
   "id": "d5ef1e82",
   "metadata": {},
   "outputs": [
    {
     "data": {
      "text/plain": [
       "15"
      ]
     },
     "execution_count": 23,
     "metadata": {},
     "output_type": "execute_result"
    }
   ],
   "source": [
    "# Find average number of tokens (words) in training Tweets\n",
    "round(sum([len(i.split()) for i in train_sentences])/len(train_sentences))"
   ]
  },
  {
   "cell_type": "markdown",
   "id": "b2232572",
   "metadata": {},
   "source": [
    "I will create a ```TextVectorization``` object using custom data"
   ]
  },
  {
   "cell_type": "code",
   "execution_count": 24,
   "id": "eb63f9ef",
   "metadata": {},
   "outputs": [],
   "source": [
    "# Setup text vectorization with custom variables\n",
    "max_vocab_length = 10000 # max number of words to have in our vocabulary\n",
    "max_length = 15 # max length our sequences will be (e.g. how many words from a Tweet does our model see?)\n",
    "\n",
    "text_vectorizer = TextVectorization(max_tokens=max_vocab_length,\n",
    "                                    output_mode=\"int\",\n",
    "                                    output_sequence_length=max_length)"
   ]
  },
  {
   "cell_type": "code",
   "execution_count": 25,
   "id": "2d1cddb3",
   "metadata": {},
   "outputs": [
    {
     "name": "stderr",
     "output_type": "stream",
     "text": [
      "2024-03-30 11:04:23.152796: W tensorflow/tsl/platform/profile_utils/cpu_utils.cc:128] Failed to get CPU frequency: 0 Hz\n",
      "2024-03-30 11:04:23.270056: I tensorflow/core/grappler/optimizers/custom_graph_optimizer_registry.cc:114] Plugin optimizer for device_type GPU is enabled.\n"
     ]
    }
   ],
   "source": [
    "# Fit the text vectorizer to the training text\n",
    "text_vectorizer.adapt(train_sentences)"
   ]
  },
  {
   "cell_type": "code",
   "execution_count": 35,
   "id": "d3b75847",
   "metadata": {},
   "outputs": [
    {
     "data": {
      "text/plain": [
       "<tf.Tensor: shape=(1, 15), dtype=int64, numpy=\n",
       "array([[  75,   23,    3,  326,    4,   13, 3613,    0,    0,    0,    0,\n",
       "           0,    0,    0,    0]])>"
      ]
     },
     "execution_count": 35,
     "metadata": {},
     "output_type": "execute_result"
    }
   ],
   "source": [
    "# Create sample sentence and tokenize it\n",
    "sample_sentence = \"There was a murder in my neighborhood!\"\n",
    "text_vectorizer([sample_sentence])"
   ]
  },
  {
   "cell_type": "code",
   "execution_count": 36,
   "id": "a49d8dfb",
   "metadata": {},
   "outputs": [
    {
     "name": "stdout",
     "output_type": "stream",
     "text": [
      "Number of words in vocab: 10000\n",
      "Top 5 most common words: ['', '[UNK]', 'the', 'a', 'in']\n",
      "Bottom 5 least common words: ['paging', 'pages', 'pageparkescorp', 'pagasa', 'paeds']\n"
     ]
    }
   ],
   "source": [
    "# Get the unique words in the vocabulary\n",
    "words_in_vocab = text_vectorizer.get_vocabulary()\n",
    "top_5_words = words_in_vocab[:5] # most common tokens (notice the [UNK] token for \"unknown\" words)\n",
    "bottom_5_words = words_in_vocab[-5:] # least common tokens\n",
    "print(f\"Number of words in vocab: {len(words_in_vocab)}\")\n",
    "print(f\"Top 5 most common words: {top_5_words}\") \n",
    "print(f\"Bottom 5 least common words: {bottom_5_words}\")"
   ]
  },
  {
   "cell_type": "markdown",
   "id": "6ff944ce",
   "metadata": {},
   "source": [
    "### Embedding using an Embedding Layer\n",
    "\n",
    "[tf.keras.layers.Embedding](https://www.tensorflow.org/api_docs/python/tf/keras/layers/Embedding)"
   ]
  },
  {
   "cell_type": "code",
   "execution_count": 37,
   "id": "8c962436",
   "metadata": {},
   "outputs": [],
   "source": [
    "from tensorflow.keras import layers\n",
    "\n",
    "embedding = layers.Embedding(input_dim=max_vocab_length, # set input shape\n",
    "                             output_dim=128, # set size of embedding vector\n",
    "                             embeddings_initializer=\"uniform\", # default, intialize randomly\n",
    "                             input_length=max_length, # how long is each input\n",
    "                             name=\"embedding_1\")"
   ]
  },
  {
   "cell_type": "code",
   "execution_count": 38,
   "id": "73552667",
   "metadata": {},
   "outputs": [
    {
     "name": "stdout",
     "output_type": "stream",
     "text": [
      "Original text:\n",
      "Spot Flood Combo 53inch 300W Curved Cree LED Work Light Bar 4X4 Offroad Fog Lamp - Full reÛ_ http://t.co/fDSaoOiskJ http://t.co/2uVmq4vAfQ      \n",
      "\n",
      "Embedded version:\n"
     ]
    },
    {
     "data": {
      "text/plain": [
       "<tf.Tensor: shape=(1, 15, 128), dtype=float32, numpy=\n",
       "array([[[ 0.00699872, -0.04713403,  0.0155743 , ...,  0.04213461,\n",
       "          0.03943077, -0.0011541 ],\n",
       "        [ 0.04781768, -0.01657576,  0.01252652, ...,  0.00944549,\n",
       "         -0.02994425, -0.00973493],\n",
       "        [-0.02485663, -0.0480586 , -0.01458284, ..., -0.03451221,\n",
       "         -0.0494932 , -0.04637484],\n",
       "        ...,\n",
       "        [-0.04144374,  0.04613325,  0.02777721, ...,  0.00058659,\n",
       "          0.04806883,  0.03803296],\n",
       "        [-0.02522571, -0.00520702,  0.01144322, ..., -0.04425932,\n",
       "         -0.01395472, -0.00609375],\n",
       "        [-0.02086855,  0.04058148,  0.04483402, ..., -0.03827721,\n",
       "         -0.04586843,  0.02502631]]], dtype=float32)>"
      ]
     },
     "execution_count": 38,
     "metadata": {},
     "output_type": "execute_result"
    }
   ],
   "source": [
    "# Get a random sentence from training set\n",
    "random_sentence = random.choice(train_sentences)\n",
    "print(f\"Original text:\\n{random_sentence}\\\n",
    "      \\n\\nEmbedded version:\")\n",
    "\n",
    "# Embed the random sentence (turn it into numerical representation)\n",
    "sample_embed = embedding(text_vectorizer([random_sentence]))\n",
    "sample_embed"
   ]
  },
  {
   "cell_type": "markdown",
   "id": "23751796",
   "metadata": {},
   "source": [
    "---\n",
    "## I will build the following models\n",
    "\n",
    "<table style=\"font-size: 17px;\">\n",
    "  <tr>\n",
    "    <th style=\"text-align: center;\">Experiment number</th>\n",
    "    <th style=\"text-align: center;\">Model</th> \n",
    "  </tr>\n",
    "  <tr>\n",
    "    <td style=\"text-align: center;\">0</td>\n",
    "    <td style=\"text-align: center;\">Naive bayes with TF-IDF encoder (baseline)</td> \n",
    "  </tr>\n",
    "  <tr>\n",
    "    <td style=\"text-align: center;\">1</td>\n",
    "    <td style=\"text-align: center;\">Feed-forward neural network (dense model)</td> \n",
    "  </tr>\n",
    "  <tr>\n",
    "    <td style=\"text-align: center;\">2</td>\n",
    "    <td style=\"text-align: center;\">LSTM (RNN)</td> \n",
    "  </tr>\n",
    "  <tr>\n",
    "    <td style=\"text-align: center;\">3</td>\n",
    "    <td style=\"text-align: center;\">GRU (RNN)</td> \n",
    "  </tr>\n",
    "  <tr>\n",
    "    <td style=\"text-align: center;\">4</td>\n",
    "    <td style=\"text-align: center;\">Bidirectional-LSTM (RNN)</td> \n",
    "  </tr>\n",
    "  <tr>\n",
    "    <td style=\"text-align: center;\">5</td>\n",
    "    <td style=\"text-align: center;\">1D Convolutional Neural Network</td>\n",
    "  </tr>\n",
    "  <tr>\n",
    "    <td style=\"text-align: center;\">6</td>\n",
    "    <td style=\"text-align: center;\">Tensorflow Hub pretrained Feature Extractor</td>\n",
    "  </tr>\n",
    "  <tr>\n",
    "    <td style=\"text-align: center;\">7</td>\n",
    "    <td style=\"text-align: center;\">Tensorflow Hub pretrained Feature Extractor (10% of data)</td>\n",
    "  </tr>\n",
    "</table>"
   ]
  },
  {
   "cell_type": "markdown",
   "id": "1001389c",
   "metadata": {},
   "source": [
    "### Model 0 (baseline)"
   ]
  },
  {
   "cell_type": "code",
   "execution_count": 39,
   "id": "3248cae9",
   "metadata": {},
   "outputs": [
    {
     "data": {
      "text/html": [
       "<style>#sk-container-id-1 {color: black;background-color: white;}#sk-container-id-1 pre{padding: 0;}#sk-container-id-1 div.sk-toggleable {background-color: white;}#sk-container-id-1 label.sk-toggleable__label {cursor: pointer;display: block;width: 100%;margin-bottom: 0;padding: 0.3em;box-sizing: border-box;text-align: center;}#sk-container-id-1 label.sk-toggleable__label-arrow:before {content: \"▸\";float: left;margin-right: 0.25em;color: #696969;}#sk-container-id-1 label.sk-toggleable__label-arrow:hover:before {color: black;}#sk-container-id-1 div.sk-estimator:hover label.sk-toggleable__label-arrow:before {color: black;}#sk-container-id-1 div.sk-toggleable__content {max-height: 0;max-width: 0;overflow: hidden;text-align: left;background-color: #f0f8ff;}#sk-container-id-1 div.sk-toggleable__content pre {margin: 0.2em;color: black;border-radius: 0.25em;background-color: #f0f8ff;}#sk-container-id-1 input.sk-toggleable__control:checked~div.sk-toggleable__content {max-height: 200px;max-width: 100%;overflow: auto;}#sk-container-id-1 input.sk-toggleable__control:checked~label.sk-toggleable__label-arrow:before {content: \"▾\";}#sk-container-id-1 div.sk-estimator input.sk-toggleable__control:checked~label.sk-toggleable__label {background-color: #d4ebff;}#sk-container-id-1 div.sk-label input.sk-toggleable__control:checked~label.sk-toggleable__label {background-color: #d4ebff;}#sk-container-id-1 input.sk-hidden--visually {border: 0;clip: rect(1px 1px 1px 1px);clip: rect(1px, 1px, 1px, 1px);height: 1px;margin: -1px;overflow: hidden;padding: 0;position: absolute;width: 1px;}#sk-container-id-1 div.sk-estimator {font-family: monospace;background-color: #f0f8ff;border: 1px dotted black;border-radius: 0.25em;box-sizing: border-box;margin-bottom: 0.5em;}#sk-container-id-1 div.sk-estimator:hover {background-color: #d4ebff;}#sk-container-id-1 div.sk-parallel-item::after {content: \"\";width: 100%;border-bottom: 1px solid gray;flex-grow: 1;}#sk-container-id-1 div.sk-label:hover label.sk-toggleable__label {background-color: #d4ebff;}#sk-container-id-1 div.sk-serial::before {content: \"\";position: absolute;border-left: 1px solid gray;box-sizing: border-box;top: 0;bottom: 0;left: 50%;z-index: 0;}#sk-container-id-1 div.sk-serial {display: flex;flex-direction: column;align-items: center;background-color: white;padding-right: 0.2em;padding-left: 0.2em;position: relative;}#sk-container-id-1 div.sk-item {position: relative;z-index: 1;}#sk-container-id-1 div.sk-parallel {display: flex;align-items: stretch;justify-content: center;background-color: white;position: relative;}#sk-container-id-1 div.sk-item::before, #sk-container-id-1 div.sk-parallel-item::before {content: \"\";position: absolute;border-left: 1px solid gray;box-sizing: border-box;top: 0;bottom: 0;left: 50%;z-index: -1;}#sk-container-id-1 div.sk-parallel-item {display: flex;flex-direction: column;z-index: 1;position: relative;background-color: white;}#sk-container-id-1 div.sk-parallel-item:first-child::after {align-self: flex-end;width: 50%;}#sk-container-id-1 div.sk-parallel-item:last-child::after {align-self: flex-start;width: 50%;}#sk-container-id-1 div.sk-parallel-item:only-child::after {width: 0;}#sk-container-id-1 div.sk-dashed-wrapped {border: 1px dashed gray;margin: 0 0.4em 0.5em 0.4em;box-sizing: border-box;padding-bottom: 0.4em;background-color: white;}#sk-container-id-1 div.sk-label label {font-family: monospace;font-weight: bold;display: inline-block;line-height: 1.2em;}#sk-container-id-1 div.sk-label-container {text-align: center;}#sk-container-id-1 div.sk-container {/* jupyter's `normalize.less` sets `[hidden] { display: none; }` but bootstrap.min.css set `[hidden] { display: none !important; }` so we also need the `!important` here to be able to override the default hidden behavior on the sphinx rendered scikit-learn.org. See: https://github.com/scikit-learn/scikit-learn/issues/21755 */display: inline-block !important;position: relative;}#sk-container-id-1 div.sk-text-repr-fallback {display: none;}</style><div id=\"sk-container-id-1\" class=\"sk-top-container\"><div class=\"sk-text-repr-fallback\"><pre>Pipeline(steps=[(&#x27;tfidf&#x27;, TfidfVectorizer()), (&#x27;classifier&#x27;, MultinomialNB())])</pre><b>In a Jupyter environment, please rerun this cell to show the HTML representation or trust the notebook. <br />On GitHub, the HTML representation is unable to render, please try loading this page with nbviewer.org.</b></div><div class=\"sk-container\" hidden><div class=\"sk-item sk-dashed-wrapped\"><div class=\"sk-label-container\"><div class=\"sk-label sk-toggleable\"><input class=\"sk-toggleable__control sk-hidden--visually\" id=\"sk-estimator-id-1\" type=\"checkbox\" ><label for=\"sk-estimator-id-1\" class=\"sk-toggleable__label sk-toggleable__label-arrow\">Pipeline</label><div class=\"sk-toggleable__content\"><pre>Pipeline(steps=[(&#x27;tfidf&#x27;, TfidfVectorizer()), (&#x27;classifier&#x27;, MultinomialNB())])</pre></div></div></div><div class=\"sk-serial\"><div class=\"sk-item\"><div class=\"sk-estimator sk-toggleable\"><input class=\"sk-toggleable__control sk-hidden--visually\" id=\"sk-estimator-id-2\" type=\"checkbox\" ><label for=\"sk-estimator-id-2\" class=\"sk-toggleable__label sk-toggleable__label-arrow\">TfidfVectorizer</label><div class=\"sk-toggleable__content\"><pre>TfidfVectorizer()</pre></div></div></div><div class=\"sk-item\"><div class=\"sk-estimator sk-toggleable\"><input class=\"sk-toggleable__control sk-hidden--visually\" id=\"sk-estimator-id-3\" type=\"checkbox\" ><label for=\"sk-estimator-id-3\" class=\"sk-toggleable__label sk-toggleable__label-arrow\">MultinomialNB</label><div class=\"sk-toggleable__content\"><pre>MultinomialNB()</pre></div></div></div></div></div></div></div>"
      ],
      "text/plain": [
       "Pipeline(steps=[('tfidf', TfidfVectorizer()), ('classifier', MultinomialNB())])"
      ]
     },
     "execution_count": 39,
     "metadata": {},
     "output_type": "execute_result"
    }
   ],
   "source": [
    "from sklearn.feature_extraction.text import TfidfVectorizer\n",
    "from sklearn.naive_bayes import MultinomialNB\n",
    "from sklearn.pipeline import Pipeline\n",
    "\n",
    "# Create tokenization and modelling pipeline\n",
    "model_0 = Pipeline([\n",
    "                    (\"tfidf\", TfidfVectorizer()), # convert words to numbers using tfidf\n",
    "                    (\"classifier\", MultinomialNB()) # model the text\n",
    "])\n",
    "\n",
    "# Fit the pipeline to the training data\n",
    "model_0.fit(train_sentences, train_labels)"
   ]
  },
  {
   "cell_type": "code",
   "execution_count": 42,
   "id": "e3970c31",
   "metadata": {},
   "outputs": [
    {
     "name": "stdout",
     "output_type": "stream",
     "text": [
      "Our baseline model achieves an accuracy of: 77.82%\n"
     ]
    }
   ],
   "source": [
    "baseline_score = model_0.score(val_sentences, val_labels)\n",
    "print(f\"Our baseline model achieves an accuracy of: {baseline_score*100:.2f}%\")"
   ]
  },
  {
   "cell_type": "code",
   "execution_count": 68,
   "id": "44a9860c",
   "metadata": {},
   "outputs": [
    {
     "name": "stdout",
     "output_type": "stream",
     "text": [
      "Forest fire in Buenos Aires. Argentina (real disaster)\n"
     ]
    }
   ],
   "source": [
    "sample_sentence = \"Forest fire in Buenos Aires. Argentina\"\n",
    "\n",
    "custom_pred = model_0.predict([sample_sentence])\n",
    "print(f\"{sample_sentence}\", \"(real disaster)\" if custom_pred > 0 else \"(not real disaster)\")"
   ]
  },
  {
   "cell_type": "markdown",
   "id": "570876ca",
   "metadata": {},
   "source": [
    "Creating an **evaluation function** for the experiments using these methods:\n",
    "\n",
    "* Accuracy\n",
    "* Precision\n",
    "* Recall\n",
    "* F1-score\n",
    "* Confusion matrix (optional)"
   ]
  },
  {
   "cell_type": "code",
   "execution_count": 86,
   "id": "a1510e6e",
   "metadata": {},
   "outputs": [],
   "source": [
    "from sklearn.metrics import accuracy_score, precision_recall_fscore_support\n",
    "import matplotlib.pyplot as plt\n",
    "\n",
    "def calculate_results(y_true, y_pred, cf_matrix=False):\n",
    "    \"\"\"\n",
    "    Calculates model accuracy, precision, recall and f1 score and confusion matrix (optional) of a binary classification model.\n",
    "\n",
    "    Args:\n",
    "    -----\n",
    "    y_true = true labels in the form of a 1D array\n",
    "    y_pred = predicted labels in the form of a 1D array\n",
    "    cf_matrix = False per default\n",
    "\n",
    "    Returns a dictionary of accuracy, precision, recall, f1-score and print a cf matrix.\n",
    "    \"\"\"\n",
    "    # Calculate model accuracy\n",
    "    model_accuracy = accuracy_score(y_true, y_pred) * 100\n",
    "    # Calculate model precision, recall and f1 score using \"weighted\" average\n",
    "    model_precision, model_recall, model_f1, _ = precision_recall_fscore_support(y_true, y_pred, average=\"weighted\")\n",
    "    model_results = {\"accuracy\": model_accuracy,\n",
    "                  \"precision\": model_precision,\n",
    "                  \"recall\": model_recall,\n",
    "                  \"f1\": model_f1}\n",
    "    if(cf_matrix):\n",
    "        make_confusion_matrix(y_true, y_pred, figsize=(4,4))\n",
    "    return model_results"
   ]
  },
  {
   "cell_type": "code",
   "execution_count": 85,
   "id": "abec2586",
   "metadata": {},
   "outputs": [
    {
     "data": {
      "text/plain": [
       "{'accuracy': 77.82152230971128,\n",
       " 'precision': 0.791021392978114,\n",
       " 'recall': 0.7782152230971129,\n",
       " 'f1': 0.7698584402000296}"
      ]
     },
     "execution_count": 85,
     "metadata": {},
     "output_type": "execute_result"
    },
    {
     "data": {
      "image/png": "[encoded data removed]",
      "text/plain": [
       "<Figure size 400x400 with 2 Axes>"
      ]
     },
     "metadata": {},
     "output_type": "display_data"
    }
   ],
   "source": [
    "# Get baseline results\n",
    "calculate_results(y_true=val_labels,\n",
    "                  y_pred=model_0.predict(val_sentences),\n",
    "                  cf_matrix=True)"
   ]
  },
  {
   "cell_type": "markdown",
   "id": "cd3da79d",
   "metadata": {},
   "source": [
    "### Model 1: Simple dense model"
   ]
  },
  {
   "cell_type": "code",
   "execution_count": 87,
   "id": "1b25f447",
   "metadata": {},
   "outputs": [],
   "source": [
    "# Create tensorboard callback (need to create a new one for each model)\n",
    "from helper_functions import create_tensorboard_callback\n",
    "\n",
    "# Create directory to save TensorBoard logs\n",
    "SAVE_DIR = \"model_logs\""
   ]
  },
  {
   "cell_type": "code",
   "execution_count": 121,
   "id": "d789cfb6",
   "metadata": {},
   "outputs": [],
   "source": [
    "# Build model with the Functional API\n",
    "from tensorflow.keras import layers\n",
    "inputs = layers.Input(shape=(1,), dtype=\"string\") # inputs are 1-dimensional strings\n",
    "x = text_vectorizer(inputs) # turn the input text into numbers\n",
    "x = embedding(x) # create an embedding of the numerized numbers\n",
    "x = layers.GlobalAveragePooling1D()(x) # lower the dimensionality of the embedding (try running the model without this layer and see what happens)\n",
    "outputs = layers.Dense(1, activation=\"sigmoid\")(x) # create the output layer, want binary outputs so use sigmoid activation\n",
    "model_1 = tf.keras.Model(inputs, outputs, name=\"model_1_dense\") # construct the model"
   ]
  },
  {
   "cell_type": "code",
   "execution_count": 128,
   "id": "75945a0f",
   "metadata": {},
   "outputs": [
    {
     "name": "stdout",
     "output_type": "stream",
     "text": [
      "Model: \"model_1_dense\"\n",
      "_________________________________________________________________\n",
      " Layer (type)                Output Shape              Param #   \n",
      "=================================================================\n",
      " input_6 (InputLayer)        [(None, 1)]               0         \n",
      "                                                                 \n",
      " text_vectorization_2 (TextV  (None, 15)               0         \n",
      " ectorization)                                                   \n",
      "                                                                 \n",
      " embedding_1 (Embedding)     (None, 15, 128)           1280000   \n",
      "                                                                 \n",
      " global_average_pooling1d_2   (None, 128)              0         \n",
      " (GlobalAveragePooling1D)                                        \n",
      "                                                                 \n",
      " dense_5 (Dense)             (None, 1)                 129       \n",
      "                                                                 \n",
      "=================================================================\n",
      "Total params: 1,280,129\n",
      "Trainable params: 1,280,129\n",
      "Non-trainable params: 0\n",
      "_________________________________________________________________\n"
     ]
    }
   ],
   "source": [
    "model_1.summary()"
   ]
  },
  {
   "cell_type": "code",
   "execution_count": 122,
   "id": "2a0a6e74",
   "metadata": {},
   "outputs": [],
   "source": [
    "# Compile model\n",
    "model_1.compile(loss=\"binary_crossentropy\",\n",
    "                optimizer=tf.keras.optimizers.legacy.Adam(),\n",
    "                metrics=[\"accuracy\"])"
   ]
  },
  {
   "cell_type": "code",
   "execution_count": 127,
   "id": "df8a14a1",
   "metadata": {},
   "outputs": [
    {
     "name": "stdout",
     "output_type": "stream",
     "text": [
      "Saving TensorBoard log files to: model_logs/simple_dense_model/20240331-113055\n",
      "Epoch 1/5\n",
      "215/215 [==============================] - 3s 14ms/step - loss: 0.1672 - accuracy: 0.9416 - val_loss: 0.5711 - val_accuracy: 0.7769\n",
      "Epoch 2/5\n",
      "215/215 [==============================] - 3s 13ms/step - loss: 0.1477 - accuracy: 0.9498 - val_loss: 0.6093 - val_accuracy: 0.7690\n",
      "Epoch 3/5\n",
      "215/215 [==============================] - 3s 13ms/step - loss: 0.1309 - accuracy: 0.9543 - val_loss: 0.6407 - val_accuracy: 0.7585\n",
      "Epoch 4/5\n",
      "215/215 [==============================] - 3s 13ms/step - loss: 0.1177 - accuracy: 0.9603 - val_loss: 0.6782 - val_accuracy: 0.7559\n",
      "Epoch 5/5\n",
      "215/215 [==============================] - 3s 13ms/step - loss: 0.1058 - accuracy: 0.9641 - val_loss: 0.7204 - val_accuracy: 0.7454\n"
     ]
    }
   ],
   "source": [
    "# Fit the model\n",
    "model_1_history = model_1.fit(train_sentences, # input sentences can be a list of strings due to text preprocessing layer built-in model\n",
    "                              train_labels,\n",
    "                              epochs=5,\n",
    "                              validation_data=(val_sentences, val_labels),\n",
    "                              callbacks=[create_tensorboard_callback(dir_name=SAVE_DIR, \n",
    "                                                                     experiment_name=\"simple_dense_model\")])"
   ]
  },
  {
   "cell_type": "code",
   "execution_count": 141,
   "id": "8ff4d6fb",
   "metadata": {},
   "outputs": [
    {
     "name": "stdout",
     "output_type": "stream",
     "text": [
      "24/24 [==============================] - 0s 5ms/step - loss: 0.7204 - accuracy: 0.7454\n"
     ]
    },
    {
     "data": {
      "text/plain": [
       "[0.7203541994094849, 0.7454068064689636]"
      ]
     },
     "execution_count": 141,
     "metadata": {},
     "output_type": "execute_result"
    }
   ],
   "source": [
    "model_1.evaluate(val_sentences, val_labels)"
   ]
  },
  {
   "cell_type": "code",
   "execution_count": 164,
   "id": "5988c2de",
   "metadata": {},
   "outputs": [
    {
     "name": "stdout",
     "output_type": "stream",
     "text": [
      "24/24 [==============================] - 0s 2ms/step\n"
     ]
    },
    {
     "data": {
      "text/plain": [
       "(762, 1)"
      ]
     },
     "execution_count": 164,
     "metadata": {},
     "output_type": "execute_result"
    }
   ],
   "source": [
    "model_1_preds = model_1.predict(val_sentences)\n",
    "model_1_preds.shape"
   ]
  },
  {
   "cell_type": "code",
   "execution_count": 165,
   "id": "7eca6935",
   "metadata": {},
   "outputs": [
    {
     "name": "stdout",
     "output_type": "stream",
     "text": [
      "model 1 preds:\n",
      " [[0.04177986]\n",
      " [0.99999857]\n",
      " [0.23748991]\n",
      " [0.2829174 ]\n",
      " [0.23905206]], (762, 1)\n",
      "\n",
      "val labels:\n",
      "[0 1 1 1 0], (762,)\n"
     ]
    }
   ],
   "source": [
    "print(f\"model 1 preds:\\n {model_1_preds[:5]}, {model_1_preds.shape}\\n\\nval labels:\\n{val_labels[:5]}, {val_labels.shape}\")"
   ]
  },
  {
   "cell_type": "markdown",
   "id": "63eb778a",
   "metadata": {},
   "source": [
    "I need to reshape the model_1_preds to 1 dimension and turn the values to 0 or 1"
   ]
  },
  {
   "cell_type": "code",
   "execution_count": 166,
   "id": "c768c84d",
   "metadata": {},
   "outputs": [],
   "source": [
    "model_1_preds = model_1_preds.flatten()\n",
    "model_1_preds = [0 if value < 0.5 else 1 for value in model_1_preds]"
   ]
  },
  {
   "cell_type": "code",
   "execution_count": 170,
   "id": "187c6068",
   "metadata": {},
   "outputs": [
    {
     "data": {
      "text/plain": [
       "{'accuracy': 74.54068241469817,\n",
       " 'precision': 0.7443165758126389,\n",
       " 'recall': 0.7454068241469817,\n",
       " 'f1': 0.7445284200900228}"
      ]
     },
     "execution_count": 170,
     "metadata": {},
     "output_type": "execute_result"
    },
    {
     "data": {
      "image/png": "[encoded data removed]",
      "text/plain": [
       "<Figure size 400x400 with 2 Axes>"
      ]
     },
     "metadata": {},
     "output_type": "display_data"
    }
   ],
   "source": [
    "calculate_results(y_true=val_labels,\n",
    "                  y_pred=model_1_preds,\n",
    "                  cf_matrix=True)"
   ]
  },
  {
   "cell_type": "markdown",
   "id": "a853bdc3",
   "metadata": {},
   "source": [
    "---\n",
    "## Visualizing learned embeddings🔑"
   ]
  },
  {
   "cell_type": "code",
   "execution_count": 171,
   "id": "27110c1a",
   "metadata": {},
   "outputs": [
    {
     "name": "stdout",
     "output_type": "stream",
     "text": [
      "(10000, 128)\n"
     ]
    }
   ],
   "source": [
    "# Get the weight matrix of embedding layer \n",
    "# (these are the numerical patterns between the text in the training dataset the model has learned)\n",
    "embed_weights = model_1.get_layer(\"embedding_1\").get_weights()[0]\n",
    "print(embed_weights.shape) # same size as vocab size and embedding_dim (each word is a embedding_dim size vector)"
   ]
  },
  {
   "cell_type": "markdown",
   "id": "b8042f49",
   "metadata": {},
   "source": [
    "We can use the **Embedding Projector tool** to visualize our embedding.\n",
    "\n",
    "To use the Embedding Projector tool, we need two files:\n",
    "\n",
    "* The embedding vectors (same as embedding weights).\n",
    "* The meta data of the embedding vectors (the words they represent - our vocabulary).\n",
    "\n",
    "To download them to file, I'm going to use the [code example available on the TensorFlow word embeddings tutorial page](https://www.tensorflow.org/text/guide/word_embeddings?hl=es-419#retrieve_the_trained_word_embeddings_and_save_them_to_disk)."
   ]
  },
  {
   "cell_type": "code",
   "execution_count": 173,
   "id": "61b31365",
   "metadata": {},
   "outputs": [],
   "source": [
    "import io \n",
    "\n",
    "out_v = io.open('vectors.tsv', 'w', encoding='utf-8')\n",
    "out_m = io.open('metadata.tsv', 'w', encoding='utf-8')\n",
    "\n",
    "for index, word in enumerate(words_in_vocab):\n",
    "  if index == 0:\n",
    "    continue  # skip 0, it's padding.\n",
    "  vec = embed_weights[index]\n",
    "  out_v.write('\\t'.join([str(x) for x in vec]) + \"\\n\")\n",
    "  out_m.write(word + \"\\n\")\n",
    "out_v.close()\n",
    "out_m.close()"
   ]
  },
  {
   "cell_type": "markdown",
   "id": "d5f3f862",
   "metadata": {},
   "source": [
    "Once you've downloaded the embedding vectors and metadata, you can visualize them using [Embedding Vector tool](http://projector.tensorflow.org/)"
   ]
  },
  {
   "cell_type": "markdown",
   "id": "e0f87deb",
   "metadata": {},
   "source": [
    "---\n",
    "### Model 2: LSTM"
   ]
  },
  {
   "cell_type": "code",
   "execution_count": 191,
   "id": "0b102866",
   "metadata": {},
   "outputs": [
    {
     "name": "stdout",
     "output_type": "stream",
     "text": [
      "(None, 15, 128)\n",
      "(None, 64)\n"
     ]
    }
   ],
   "source": [
    "from tensorflow.keras import layers\n",
    "model_2_embedding = layers.Embedding(input_dim=max_vocab_length,\n",
    "                                     output_dim=128,\n",
    "                                     embeddings_initializer=\"uniform\",\n",
    "                                     input_length=max_length,\n",
    "                                     name=\"embedding_2\")\n",
    "\n",
    "\n",
    "# Create LSTM model\n",
    "inputs = layers.Input(shape=(1,), dtype=\"string\")\n",
    "x = text_vectorizer(inputs)\n",
    "x = model_2_embedding(x)\n",
    "print(x.shape)\n",
    "# x = layers.LSTM(64, return_sequences=True)(x) # return vector for each word in the Tweet (you can stack RNN cells as long as return_sequences=True)\n",
    "x = layers.LSTM(64)(x) # return vector for whole sequence\n",
    "print(x.shape)\n",
    "# x = layers.Dense(64, activation=\"relu\")(x) # optional dense layer on top of output of LSTM cell\n",
    "outputs = layers.Dense(1, activation=\"sigmoid\")(x)\n",
    "model_2 = tf.keras.Model(inputs, outputs, name=\"model_2_LSTM\")"
   ]
  },
  {
   "cell_type": "markdown",
   "id": "1e87188b",
   "metadata": {},
   "source": [
    "> ⚠️**LSTM layer** expect an input 3D vector. Therefore, if I want to stack RNN cells, it is necessary to put ```return_sequences = True``` to get a 3D vector output (if ```return_sequences = False```, it will return a 2D vector)"
   ]
  },
  {
   "cell_type": "code",
   "execution_count": 192,
   "id": "7c4841f9",
   "metadata": {},
   "outputs": [
    {
     "name": "stdout",
     "output_type": "stream",
     "text": [
      "Model: \"model_2_LSTM\"\n",
      "_________________________________________________________________\n",
      " Layer (type)                Output Shape              Param #   \n",
      "=================================================================\n",
      " input_9 (InputLayer)        [(None, 1)]               0         \n",
      "                                                                 \n",
      " text_vectorization_2 (TextV  (None, 15)               0         \n",
      " ectorization)                                                   \n",
      "                                                                 \n",
      " embedding_2 (Embedding)     (None, 15, 128)           1280000   \n",
      "                                                                 \n",
      " lstm_3 (LSTM)               (None, 64)                49408     \n",
      "                                                                 \n",
      " dense_8 (Dense)             (None, 1)                 65        \n",
      "                                                                 \n",
      "=================================================================\n",
      "Total params: 1,329,473\n",
      "Trainable params: 1,329,473\n",
      "Non-trainable params: 0\n",
      "_________________________________________________________________\n"
     ]
    }
   ],
   "source": [
    "model_2.summary()"
   ]
  },
  {
   "cell_type": "code",
   "execution_count": 193,
   "id": "6e356c66",
   "metadata": {},
   "outputs": [],
   "source": [
    "# Compile model\n",
    "model_2.compile(loss=\"binary_crossentropy\",\n",
    "                optimizer=tf.keras.optimizers.legacy.Adam(),\n",
    "                metrics=[\"accuracy\"])"
   ]
  },
  {
   "cell_type": "code",
   "execution_count": 195,
   "id": "757404d8",
   "metadata": {},
   "outputs": [
    {
     "name": "stdout",
     "output_type": "stream",
     "text": [
      "Saving TensorBoard log files to: model_logs/LSTM/20240331-231006\n",
      "Epoch 1/5\n",
      "215/215 [==============================] - 4s 18ms/step - loss: 0.0777 - accuracy: 0.9693 - val_loss: 1.1905 - val_accuracy: 0.7428\n",
      "Epoch 2/5\n",
      "215/215 [==============================] - 4s 17ms/step - loss: 0.0701 - accuracy: 0.9712 - val_loss: 1.3261 - val_accuracy: 0.7270\n",
      "Epoch 3/5\n",
      "215/215 [==============================] - 4s 20ms/step - loss: 0.0494 - accuracy: 0.9794 - val_loss: 1.2915 - val_accuracy: 0.7310\n",
      "Epoch 4/5\n",
      "215/215 [==============================] - 4s 19ms/step - loss: 0.0446 - accuracy: 0.9794 - val_loss: 1.5623 - val_accuracy: 0.7323\n",
      "Epoch 5/5\n",
      "215/215 [==============================] - 5s 21ms/step - loss: 0.0394 - accuracy: 0.9806 - val_loss: 1.5402 - val_accuracy: 0.7428\n"
     ]
    }
   ],
   "source": [
    "# Fit model\n",
    "model_2_history = model_2.fit(train_sentences,\n",
    "                              train_labels,\n",
    "                              epochs=5,\n",
    "                              validation_data=(val_sentences, val_labels),\n",
    "                              callbacks=[create_tensorboard_callback(SAVE_DIR, \n",
    "                                                                     \"LSTM\")])"
   ]
  },
  {
   "cell_type": "code",
   "execution_count": 196,
   "id": "3d26463c",
   "metadata": {},
   "outputs": [
    {
     "name": "stderr",
     "output_type": "stream",
     "text": [
      "2024-03-31 23:10:28.074853: I tensorflow/core/grappler/optimizers/custom_graph_optimizer_registry.cc:114] Plugin optimizer for device_type GPU is enabled.\n",
      "2024-03-31 23:10:28.159473: I tensorflow/core/grappler/optimizers/custom_graph_optimizer_registry.cc:114] Plugin optimizer for device_type GPU is enabled.\n"
     ]
    },
    {
     "name": "stdout",
     "output_type": "stream",
     "text": [
      "24/24 [==============================] - 1s 7ms/step\n"
     ]
    },
    {
     "data": {
      "text/plain": [
       "((762, 1),\n",
       " array([[4.3101096e-05],\n",
       "        [9.9998295e-01],\n",
       "        [2.1706974e-04],\n",
       "        [5.8515915e-03],\n",
       "        [1.4303263e-01],\n",
       "        [6.2672239e-05],\n",
       "        [9.6934021e-01],\n",
       "        [7.7725548e-05],\n",
       "        [9.9992144e-01],\n",
       "        [9.9996459e-01]], dtype=float32))"
      ]
     },
     "execution_count": 196,
     "metadata": {},
     "output_type": "execute_result"
    }
   ],
   "source": [
    "# Make predictions on the validation dataset\n",
    "model_2_pred_probs = model_2.predict(val_sentences)\n",
    "model_2_pred_probs.shape, model_2_pred_probs[:10] # view the first 10"
   ]
  },
  {
   "cell_type": "code",
   "execution_count": 197,
   "id": "4be2294d",
   "metadata": {},
   "outputs": [
    {
     "data": {
      "text/plain": [
       "<tf.Tensor: shape=(10,), dtype=float32, numpy=array([0., 1., 0., 0., 0., 0., 1., 0., 1., 1.], dtype=float32)>"
      ]
     },
     "execution_count": 197,
     "metadata": {},
     "output_type": "execute_result"
    }
   ],
   "source": [
    "# Round out predictions and reduce to 1-dimensional array\n",
    "model_2_preds = tf.squeeze(tf.round(model_2_pred_probs))\n",
    "model_2_preds[:10]"
   ]
  },
  {
   "cell_type": "code",
   "execution_count": 198,
   "id": "73570be8",
   "metadata": {},
   "outputs": [
    {
     "data": {
      "text/plain": [
       "{'accuracy': 74.2782152230971,\n",
       " 'precision': 0.7425712158572018,\n",
       " 'recall': 0.7427821522309711,\n",
       " 'f1': 0.7387782134356244}"
      ]
     },
     "execution_count": 198,
     "metadata": {},
     "output_type": "execute_result"
    },
    {
     "data": {
      "image/png": "[encoded data removed]",
      "text/plain": [
       "<Figure size 400x400 with 2 Axes>"
      ]
     },
     "metadata": {},
     "output_type": "display_data"
    }
   ],
   "source": [
    "calculate_results(y_true=val_labels,\n",
    "                  y_pred=model_2_preds,\n",
    "                  cf_matrix=True)"
   ]
  },
  {
   "cell_type": "markdown",
   "id": "803844ad",
   "metadata": {},
   "source": [
    "### Model 3: GRU\n",
    "\n",
    "The GRU cell has similar features to an LSTM cell but has less parameters."
   ]
  },
  {
   "cell_type": "code",
   "execution_count": 199,
   "id": "6409f463",
   "metadata": {},
   "outputs": [],
   "source": [
    "from tensorflow.keras import layers\n",
    "model_3_embedding = layers.Embedding(input_dim=max_vocab_length,\n",
    "                                     output_dim=128,\n",
    "                                     embeddings_initializer=\"uniform\",\n",
    "                                     input_length=max_length,\n",
    "                                     name=\"embedding_3\")\n",
    "\n",
    "# Build an RNN using the GRU cell\n",
    "inputs = layers.Input(shape=(1,), dtype=\"string\")\n",
    "x = text_vectorizer(inputs)\n",
    "x = model_3_embedding(x)\n",
    "# x = layers.GRU(64, return_sequences=True) # stacking recurrent cells requires return_sequences=True\n",
    "x = layers.GRU(64)(x) \n",
    "# x = layers.Dense(64, activation=\"relu\")(x) # optional dense layer after GRU cell\n",
    "outputs = layers.Dense(1, activation=\"sigmoid\")(x)\n",
    "model_3 = tf.keras.Model(inputs, outputs, name=\"model_3_GRU\")"
   ]
  },
  {
   "cell_type": "code",
   "execution_count": 200,
   "id": "260799a6",
   "metadata": {},
   "outputs": [
    {
     "name": "stdout",
     "output_type": "stream",
     "text": [
      "Model: \"model_3_GRU\"\n",
      "_________________________________________________________________\n",
      " Layer (type)                Output Shape              Param #   \n",
      "=================================================================\n",
      " input_10 (InputLayer)       [(None, 1)]               0         \n",
      "                                                                 \n",
      " text_vectorization_2 (TextV  (None, 15)               0         \n",
      " ectorization)                                                   \n",
      "                                                                 \n",
      " embedding_3 (Embedding)     (None, 15, 128)           1280000   \n",
      "                                                                 \n",
      " gru (GRU)                   (None, 64)                37248     \n",
      "                                                                 \n",
      " dense_9 (Dense)             (None, 1)                 65        \n",
      "                                                                 \n",
      "=================================================================\n",
      "Total params: 1,317,313\n",
      "Trainable params: 1,317,313\n",
      "Non-trainable params: 0\n",
      "_________________________________________________________________\n"
     ]
    }
   ],
   "source": [
    "model_3.summary()"
   ]
  },
  {
   "cell_type": "code",
   "execution_count": 201,
   "id": "00395465",
   "metadata": {},
   "outputs": [],
   "source": [
    "# Compile GRU model\n",
    "model_3.compile(loss=\"binary_crossentropy\",\n",
    "                optimizer=tf.keras.optimizers.legacy.Adam(),\n",
    "                metrics=[\"accuracy\"])"
   ]
  },
  {
   "cell_type": "code",
   "execution_count": 203,
   "id": "f3470fae",
   "metadata": {},
   "outputs": [
    {
     "name": "stdout",
     "output_type": "stream",
     "text": [
      "Saving TensorBoard log files to: model_logs/GRU/20240331-232234\n",
      "Epoch 1/5\n",
      "215/215 [==============================] - 5s 18ms/step - loss: 0.0861 - accuracy: 0.9711 - val_loss: 0.9089 - val_accuracy: 0.7467\n",
      "Epoch 2/5\n",
      "215/215 [==============================] - 4s 19ms/step - loss: 0.0747 - accuracy: 0.9752 - val_loss: 0.9352 - val_accuracy: 0.7375\n",
      "Epoch 3/5\n",
      "215/215 [==============================] - 4s 17ms/step - loss: 0.0597 - accuracy: 0.9781 - val_loss: 1.1440 - val_accuracy: 0.7205\n",
      "Epoch 4/5\n",
      "215/215 [==============================] - 4s 17ms/step - loss: 0.0535 - accuracy: 0.9772 - val_loss: 1.2367 - val_accuracy: 0.7441\n",
      "Epoch 5/5\n",
      "215/215 [==============================] - 4s 17ms/step - loss: 0.0477 - accuracy: 0.9787 - val_loss: 1.2667 - val_accuracy: 0.7126\n"
     ]
    }
   ],
   "source": [
    "# Fit model\n",
    "model_3_history = model_3.fit(train_sentences,\n",
    "                              train_labels,\n",
    "                              epochs=5,\n",
    "                              validation_data=(val_sentences, val_labels),\n",
    "                              callbacks=[create_tensorboard_callback(SAVE_DIR, \"GRU\")])"
   ]
  },
  {
   "cell_type": "code",
   "execution_count": 204,
   "id": "50b7ff0e",
   "metadata": {},
   "outputs": [
    {
     "name": "stdout",
     "output_type": "stream",
     "text": [
      "\r",
      " 1/24 [>.............................] - ETA: 8s"
     ]
    },
    {
     "name": "stderr",
     "output_type": "stream",
     "text": [
      "2024-03-31 23:23:27.956866: I tensorflow/core/grappler/optimizers/custom_graph_optimizer_registry.cc:114] Plugin optimizer for device_type GPU is enabled.\n",
      "2024-03-31 23:23:28.030475: I tensorflow/core/grappler/optimizers/custom_graph_optimizer_registry.cc:114] Plugin optimizer for device_type GPU is enabled.\n"
     ]
    },
    {
     "name": "stdout",
     "output_type": "stream",
     "text": [
      "24/24 [==============================] - 1s 8ms/step\n"
     ]
    },
    {
     "data": {
      "text/plain": [
       "((762, 1),\n",
       " array([[3.7129378e-04],\n",
       "        [9.9993563e-01],\n",
       "        [9.9544770e-01],\n",
       "        [1.9252221e-01],\n",
       "        [7.1228731e-01],\n",
       "        [1.0472807e-03],\n",
       "        [7.8470868e-01],\n",
       "        [2.0866215e-03],\n",
       "        [9.9981886e-01],\n",
       "        [9.9987316e-01]], dtype=float32))"
      ]
     },
     "execution_count": 204,
     "metadata": {},
     "output_type": "execute_result"
    }
   ],
   "source": [
    "# Make predictions on the validation data\n",
    "model_3_pred_probs = model_3.predict(val_sentences)\n",
    "model_3_pred_probs.shape, model_3_pred_probs[:10]"
   ]
  },
  {
   "cell_type": "code",
   "execution_count": 205,
   "id": "2c6a2c1b",
   "metadata": {},
   "outputs": [
    {
     "data": {
      "text/plain": [
       "<tf.Tensor: shape=(10,), dtype=float32, numpy=array([0., 1., 1., 0., 1., 0., 1., 0., 1., 1.], dtype=float32)>"
      ]
     },
     "execution_count": 205,
     "metadata": {},
     "output_type": "execute_result"
    }
   ],
   "source": [
    "# Convert prediction probabilities to prediction classes\n",
    "model_3_preds = tf.squeeze(tf.round(model_3_pred_probs))\n",
    "model_3_preds[:10]"
   ]
  },
  {
   "cell_type": "code",
   "execution_count": 207,
   "id": "1247b12d",
   "metadata": {},
   "outputs": [
    {
     "data": {
      "text/plain": [
       "{'accuracy': 71.25984251968504,\n",
       " 'precision': 0.7109796254170309,\n",
       " 'recall': 0.7125984251968503,\n",
       " 'f1': 0.711240622481245}"
      ]
     },
     "execution_count": 207,
     "metadata": {},
     "output_type": "execute_result"
    },
    {
     "data": {
      "image/png": "[encoded data removed]",
      "text/plain": [
       "<Figure size 400x400 with 2 Axes>"
      ]
     },
     "metadata": {},
     "output_type": "display_data"
    }
   ],
   "source": [
    "calculate_results(y_true=val_labels, \n",
    "                  y_pred=model_3_preds,\n",
    "                  cf_matrix=True)"
   ]
  },
  {
   "cell_type": "markdown",
   "id": "2c34161b",
   "metadata": {},
   "source": [
    "### Model 4: Bidirectional RNN model\n",
    "\n",
    "A standard RNN will process a sequence from left to right, where as a bidirectional RNN will process the sequence from left to right and then again from right to left.\n",
    "\n",
    "*It's a good option for sequences which may benefit from passing forward and backwards*"
   ]
  },
  {
   "cell_type": "code",
   "execution_count": 208,
   "id": "56d0fda0",
   "metadata": {},
   "outputs": [],
   "source": [
    "from tensorflow.keras import layers\n",
    "model_4_embedding = layers.Embedding(input_dim=max_vocab_length,\n",
    "                                     output_dim=128,\n",
    "                                     embeddings_initializer=\"uniform\",\n",
    "                                     input_length=max_length,\n",
    "                                     name=\"embedding_4\")\n",
    "\n",
    "# Build a Bidirectional RNN in TensorFlow\n",
    "inputs = layers.Input(shape=(1,), dtype=\"string\")\n",
    "x = text_vectorizer(inputs)\n",
    "x = model_4_embedding(x)\n",
    "# x = layers.Bidirectional(layers.LSTM(64, return_sequences=True))(x) # stacking RNN layers requires return_sequences=True\n",
    "x = layers.Bidirectional(layers.LSTM(64))(x) # bidirectional goes both ways so has double the parameters of a regular LSTM layer\n",
    "outputs = layers.Dense(1, activation=\"sigmoid\")(x)\n",
    "model_4 = tf.keras.Model(inputs, outputs, name=\"model_4_Bidirectional\")"
   ]
  },
  {
   "cell_type": "code",
   "execution_count": 209,
   "id": "cb1a65e3",
   "metadata": {},
   "outputs": [
    {
     "name": "stdout",
     "output_type": "stream",
     "text": [
      "Model: \"model_4_Bidirectional\"\n",
      "_________________________________________________________________\n",
      " Layer (type)                Output Shape              Param #   \n",
      "=================================================================\n",
      " input_11 (InputLayer)       [(None, 1)]               0         \n",
      "                                                                 \n",
      " text_vectorization_2 (TextV  (None, 15)               0         \n",
      " ectorization)                                                   \n",
      "                                                                 \n",
      " embedding_4 (Embedding)     (None, 15, 128)           1280000   \n",
      "                                                                 \n",
      " bidirectional (Bidirectiona  (None, 128)              98816     \n",
      " l)                                                              \n",
      "                                                                 \n",
      " dense_10 (Dense)            (None, 1)                 129       \n",
      "                                                                 \n",
      "=================================================================\n",
      "Total params: 1,378,945\n",
      "Trainable params: 1,378,945\n",
      "Non-trainable params: 0\n",
      "_________________________________________________________________\n"
     ]
    }
   ],
   "source": [
    "model_4.summary()"
   ]
  },
  {
   "cell_type": "code",
   "execution_count": 210,
   "id": "0eac016d",
   "metadata": {},
   "outputs": [],
   "source": [
    "# Compile\n",
    "model_4.compile(loss=\"binary_crossentropy\",\n",
    "                optimizer=tf.keras.optimizers.legacy.Adam(),\n",
    "                metrics=[\"accuracy\"])"
   ]
  },
  {
   "cell_type": "code",
   "execution_count": 213,
   "id": "6718aada",
   "metadata": {},
   "outputs": [
    {
     "name": "stdout",
     "output_type": "stream",
     "text": [
      "Saving TensorBoard log files to: model_logs/bidirectional_RNN/20240331-233539\n",
      "Epoch 1/5\n",
      "215/215 [==============================] - 6s 25ms/step - loss: 0.0584 - accuracy: 0.9780 - val_loss: 1.2772 - val_accuracy: 0.7454\n",
      "Epoch 2/5\n",
      "215/215 [==============================] - 5s 25ms/step - loss: 0.0520 - accuracy: 0.9800 - val_loss: 1.2554 - val_accuracy: 0.7480\n",
      "Epoch 3/5\n",
      "215/215 [==============================] - 5s 24ms/step - loss: 0.0444 - accuracy: 0.9801 - val_loss: 1.3090 - val_accuracy: 0.7336\n",
      "Epoch 4/5\n",
      "215/215 [==============================] - 5s 25ms/step - loss: 0.0438 - accuracy: 0.9801 - val_loss: 1.3955 - val_accuracy: 0.7336\n",
      "Epoch 5/5\n",
      "215/215 [==============================] - 5s 25ms/step - loss: 0.0419 - accuracy: 0.9809 - val_loss: 1.3005 - val_accuracy: 0.7546\n"
     ]
    }
   ],
   "source": [
    "# Fit the model (takes longer because of the bidirectional layers)\n",
    "model_4_history = model_4.fit(train_sentences,\n",
    "                              train_labels,\n",
    "                              epochs=5,\n",
    "                              validation_data=(val_sentences, val_labels),\n",
    "                              callbacks=[create_tensorboard_callback(SAVE_DIR, \"bidirectional_RNN\")])"
   ]
  },
  {
   "cell_type": "code",
   "execution_count": 215,
   "id": "9760c4bc",
   "metadata": {},
   "outputs": [
    {
     "name": "stdout",
     "output_type": "stream",
     "text": [
      "24/24 [==============================] - 0s 8ms/step\n"
     ]
    },
    {
     "data": {
      "text/plain": [
       "<tf.Tensor: shape=(10,), dtype=float32, numpy=array([0., 1., 1., 0., 0., 0., 1., 0., 1., 1.], dtype=float32)>"
      ]
     },
     "execution_count": 215,
     "metadata": {},
     "output_type": "execute_result"
    }
   ],
   "source": [
    "# Make predictions with bidirectional RNN on the validation data\n",
    "model_4_pred_probs = model_4.predict(val_sentences)\n",
    "# Convert prediction probabilities to labels\n",
    "model_4_preds = tf.squeeze(tf.round(model_4_pred_probs))\n",
    "model_4_preds[:10]"
   ]
  },
  {
   "cell_type": "code",
   "execution_count": 216,
   "id": "0be17165",
   "metadata": {},
   "outputs": [
    {
     "data": {
      "text/plain": [
       "{'accuracy': 75.45931758530183,\n",
       " 'precision': 0.7540786757203202,\n",
       " 'recall': 0.7545931758530183,\n",
       " 'f1': 0.7516039129778388}"
      ]
     },
     "execution_count": 216,
     "metadata": {},
     "output_type": "execute_result"
    },
    {
     "data": {
      "image/png": "[encoded data removed]",
      "text/plain": [
       "<Figure size 400x400 with 2 Axes>"
      ]
     },
     "metadata": {},
     "output_type": "display_data"
    }
   ],
   "source": [
    "calculate_results(y_true=val_labels, \n",
    "                  y_pred=model_4_preds,\n",
    "                  cf_matrix=True)"
   ]
  },
  {
   "attachments": {},
   "cell_type": "markdown",
   "id": "2c2fc9a5",
   "metadata": {},
   "source": [
    "### Model 5: Conv1D"
   ]
  },
  {
   "cell_type": "code",
   "execution_count": null,
   "id": "d5535637",
   "metadata": {},
   "outputs": [],
   "source": []
  }
 ],
 "metadata": {
  "kernelspec": {
   "display_name": "Python 3.9 (tensorflow)",
   "language": "python",
   "name": "tensorflow"
  },
  "language_info": {
   "codemirror_mode": {
    "name": "ipython",
    "version": 3
   },
   "file_extension": ".py",
   "mimetype": "text/x-python",
   "name": "python",
   "nbconvert_exporter": "python",
   "pygments_lexer": "ipython3",
   "version": "3.10.9"
  }
 },
 "nbformat": 4,
 "nbformat_minor": 5
}

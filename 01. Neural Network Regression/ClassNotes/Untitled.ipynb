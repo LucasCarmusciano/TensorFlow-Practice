{
 "cells": [
  {
   "cell_type": "code",
   "execution_count": 1,
   "id": "cb23a6b0",
   "metadata": {},
   "outputs": [
    {
     "data": {
      "text/plain": [
       "(array([-7., -4., -1.,  2.,  5.,  8., 11., 14.]),\n",
       " array([ 3.,  6.,  9., 12., 15., 18., 21., 24.]),\n",
       " <matplotlib.collections.PathCollection at 0x140f775b0>)"
      ]
     },
     "execution_count": 1,
     "metadata": {},
     "output_type": "execute_result"
    },
    {
     "data": {
      "image/png": "[encoded data removed]",
      "text/plain": [
       "<Figure size 640x480 with 1 Axes>"
      ]
     },
     "metadata": {},
     "output_type": "display_data"
    }
   ],
   "source": [
    "import tensorflow as tf\n",
    "import numpy as np\n",
    "import matplotlib.pyplot as plt\n",
    "X = np.array([-7.0, -4.0, -1.0, 2.0, 5.0, 8.0, 11.0, 14.0])\n",
    "y = X + 10\n",
    "X, y, plt.scatter(X,y)"
   ]
  },
  {
   "cell_type": "code",
   "execution_count": 2,
   "id": "434814e3",
   "metadata": {},
   "outputs": [
    {
     "data": {
      "text/plain": [
       "(<tf.Tensor: shape=(8,), dtype=float32, numpy=array([-7., -4., -1.,  2.,  5.,  8., 11., 14.], dtype=float32)>,\n",
       " <tf.Tensor: shape=(8,), dtype=float32, numpy=array([ 3.,  6.,  9., 12., 15., 18., 21., 24.], dtype=float32)>)"
      ]
     },
     "execution_count": 2,
     "metadata": {},
     "output_type": "execute_result"
    }
   ],
   "source": [
    "# Turn NumPy arrays into tensors with dtype float32\n",
    "X = tf.cast(tf.constant(X), dtype = tf.float32)\n",
    "y = tf.cast(tf.constant(y), dtype = tf.float32)\n",
    "X, y"
   ]
  },
  {
   "cell_type": "code",
   "execution_count": 3,
   "id": "3f871935",
   "metadata": {},
   "outputs": [
    {
     "name": "stdout",
     "output_type": "stream",
     "text": [
      "done\n"
     ]
    }
   ],
   "source": [
    "# Set random seed\n",
    "tf.random.set_seed(42)\n",
    "\n",
    "# 1. Create the model\n",
    "model = tf.keras.Sequential()\n",
    "model.add(tf.keras.layers.Dense(50, activation = None))\n",
    "model.add(tf.keras.layers.Dense(1))\n",
    "\n",
    "# 2. Compile the model\n",
    "model.compile(loss = tf.keras.losses.mae,\n",
    "              optimizer = tf.keras.optimizers.legacy.Adam(learning_rate=0.01),\n",
    "              metrics = [\"mae\"])\n",
    "\n",
    "# 3. Fit the model\n",
    "model.fit(tf.expand_dims(X, axis=-1), y, epochs=50, verbose=0)\n",
    "print(\"done\")"
   ]
  },
  {
   "cell_type": "code",
   "execution_count": 4,
   "id": "7e85efb6",
   "metadata": {},
   "outputs": [
    {
     "name": "stdout",
     "output_type": "stream",
     "text": [
      "1/1 [==============================] - 0s 53ms/step\n"
     ]
    },
    {
     "data": {
      "text/plain": [
       "array([[29.126545]], dtype=float32)"
      ]
     },
     "execution_count": 4,
     "metadata": {},
     "output_type": "execute_result"
    }
   ],
   "source": [
    "model.predict([17.0])"
   ]
  },
  {
   "cell_type": "markdown",
   "id": "341094cd",
   "metadata": {},
   "source": [
    "## Personal Practice"
   ]
  },
  {
   "cell_type": "code",
   "execution_count": 5,
   "id": "1e108d98",
   "metadata": {},
   "outputs": [
    {
     "data": {
      "text/plain": [
       "(array([  2,   3,   6,  11,  16,  17,  21,  21,  25,  29,  32,  36,  37,\n",
       "         40,  46,  47,  50,  53,  55,  59,  64,  64,  66,  73,  75,  75,\n",
       "         78,  82,  87,  91,  92,  94,  98, 103, 105, 107, 112, 113, 118,\n",
       "        121, 120, 124, 129, 129, 136, 135, 140, 142, 145, 149, 151, 155,\n",
       "        160, 159, 165, 167, 172, 175, 174, 177, 182, 187, 189, 191, 195,\n",
       "        195, 201, 205, 204, 208, 214, 215, 219, 220, 223, 229, 229, 232,\n",
       "        236, 237]),\n",
       " array([  0,  19,   9,  18,  18,  22,  34,  32,  42,  33,  38,  50,  55,\n",
       "         50,  66,  69,  53,  64,  62,  79,  65,  75,  81,  84,  93,  99,\n",
       "         99,  82,  95, 101, 111, 106, 119, 110, 121, 125, 131, 113, 121,\n",
       "        140, 132, 142, 128, 134, 133, 149, 147, 165, 150, 168, 170, 166,\n",
       "        179, 160, 183, 184, 174, 171, 175, 178, 202, 183, 194, 196, 195,\n",
       "        219, 217, 202, 220, 227, 214, 231, 228, 224, 225, 228, 248, 235,\n",
       "        241, 246]),\n",
       " array([241, 247, 250, 250, 256, 258, 258, 262, 267, 268, 273, 274, 280,\n",
       "        280, 282, 286, 288, 294, 297, 297]),\n",
       " array([251, 263, 259, 263, 259, 267, 262, 285, 276, 291, 286, 297, 300,\n",
       "        285, 295, 304, 294, 312, 306, 318]),\n",
       " <matplotlib.collections.PathCollection at 0x141e82020>)"
      ]
     },
     "execution_count": 5,
     "metadata": {},
     "output_type": "execute_result"
    },
    {
     "data": {
      "image/png": "[encoded data removed]",
      "text/plain": [
       "<Figure size 640x480 with 1 Axes>"
      ]
     },
     "metadata": {},
     "output_type": "display_data"
    }
   ],
   "source": [
    "import numpy as np\n",
    "import tensorflow as tf\n",
    "import matplotlib.pyplot as plt\n",
    "\n",
    "# Create random values to evaluate with a second grade function\n",
    "X_train = np.array([], dtype=int)\n",
    "y_train = np.array([], dtype=int)\n",
    "for x in range(0,300,3):\n",
    "  X_train = np.append(X_train, np.random.randint(x,x+5))\n",
    "  y_train = np.append(y_train, np.random.randint(x,x+25))\n",
    "X_test = X_train[80:]\n",
    "X_train = X_train[:80]\n",
    "y_test = y_train[80:]\n",
    "y_train = y_train[:80]\n",
    "X_train, y_train, X_test, y_test, plt.scatter(X_train, y_train)"
   ]
  },
  {
   "cell_type": "code",
   "execution_count": 6,
   "id": "99eb36e9",
   "metadata": {},
   "outputs": [
    {
     "data": {
      "text/plain": [
       "(<tf.Tensor: shape=(80,), dtype=float32, numpy=\n",
       " array([  2.,   3.,   6.,  11.,  16.,  17.,  21.,  21.,  25.,  29.,  32.,\n",
       "         36.,  37.,  40.,  46.,  47.,  50.,  53.,  55.,  59.,  64.,  64.,\n",
       "         66.,  73.,  75.,  75.,  78.,  82.,  87.,  91.,  92.,  94.,  98.,\n",
       "        103., 105., 107., 112., 113., 118., 121., 120., 124., 129., 129.,\n",
       "        136., 135., 140., 142., 145., 149., 151., 155., 160., 159., 165.,\n",
       "        167., 172., 175., 174., 177., 182., 187., 189., 191., 195., 195.,\n",
       "        201., 205., 204., 208., 214., 215., 219., 220., 223., 229., 229.,\n",
       "        232., 236., 237.], dtype=float32)>,\n",
       " <tf.Tensor: shape=(80,), dtype=float32, numpy=\n",
       " array([  0.,  19.,   9.,  18.,  18.,  22.,  34.,  32.,  42.,  33.,  38.,\n",
       "         50.,  55.,  50.,  66.,  69.,  53.,  64.,  62.,  79.,  65.,  75.,\n",
       "         81.,  84.,  93.,  99.,  99.,  82.,  95., 101., 111., 106., 119.,\n",
       "        110., 121., 125., 131., 113., 121., 140., 132., 142., 128., 134.,\n",
       "        133., 149., 147., 165., 150., 168., 170., 166., 179., 160., 183.,\n",
       "        184., 174., 171., 175., 178., 202., 183., 194., 196., 195., 219.,\n",
       "        217., 202., 220., 227., 214., 231., 228., 224., 225., 228., 248.,\n",
       "        235., 241., 246.], dtype=float32)>,\n",
       " <tf.Tensor: shape=(20,), dtype=float32, numpy=\n",
       " array([241., 247., 250., 250., 256., 258., 258., 262., 267., 268., 273.,\n",
       "        274., 280., 280., 282., 286., 288., 294., 297., 297.],\n",
       "       dtype=float32)>,\n",
       " <tf.Tensor: shape=(20,), dtype=float32, numpy=\n",
       " array([251., 263., 259., 263., 259., 267., 262., 285., 276., 291., 286.,\n",
       "        297., 300., 285., 295., 304., 294., 312., 306., 318.],\n",
       "       dtype=float32)>)"
      ]
     },
     "execution_count": 6,
     "metadata": {},
     "output_type": "execute_result"
    }
   ],
   "source": [
    "X_train = tf.cast(tf.constant(X_train), dtype = tf.float32)\n",
    "y_train = tf.cast(tf.constant(y_train), dtype = tf.float32)\n",
    "X_test = tf.cast(tf.constant(X_test), dtype = tf.float32)\n",
    "y_test = tf.cast(tf.constant(y_test), dtype = tf.float32)\n",
    "X_train, y_train, X_test, y_test"
   ]
  },
  {
   "cell_type": "code",
   "execution_count": 8,
   "id": "d5eccb54",
   "metadata": {},
   "outputs": [
    {
     "name": "stdout",
     "output_type": "stream",
     "text": [
      "done\n"
     ]
    }
   ],
   "source": [
    "tf.random.set_seed(42)\n",
    "\n",
    "model_train = tf.keras.models.Sequential([\n",
    "    tf.keras.layers.Dense(units=1, input_shape=[1]),\n",
    "    tf.keras.layers.Dense(units=4, activation=\"relu\"),\n",
    "    tf.keras.layers.Dense(units=4, activation=\"relu\"),\n",
    "    tf.keras.layers.Dense(units=1, activation=\"relu\")\n",
    "])\n",
    "model_train.compile(loss=tf.keras.losses.mse,\n",
    "                    optimizer=tf.keras.optimizers.legacy.Adam(learning_rate=0.01),\n",
    "                    metrics=[\"mse\"])\n",
    "history = model_train.fit(tf.expand_dims(X_train, axis=-1), y_train, epochs=100, verbose=0)\n",
    "print(\"done\")"
   ]
  },
  {
   "cell_type": "code",
   "execution_count": 9,
   "id": "de41094a",
   "metadata": {},
   "outputs": [
    {
     "name": "stdout",
     "output_type": "stream",
     "text": [
      "1/1 [==============================] - 0s 32ms/step\n"
     ]
    },
    {
     "data": {
      "text/plain": [
       "(<tf.Tensor: shape=(), dtype=float32, numpy=179.21893>,\n",
       " <tf.Tensor: shape=(), dtype=float32, numpy=13.371486>)"
      ]
     },
     "execution_count": 9,
     "metadata": {},
     "output_type": "execute_result"
    }
   ],
   "source": [
    "y_pred = model_train.predict(y_test)\n",
    "mse = tf.metrics.mean_squared_error(y_true=y_test,\n",
    "                              y_pred=tf.squeeze(y_pred))\n",
    "mae = tf.metrics.mean_absolute_error(y_true=y_test,\n",
    "                               y_pred=tf.squeeze(y_pred))\n",
    "mse, mae"
   ]
  },
  {
   "cell_type": "code",
   "execution_count": 10,
   "id": "b6a0f531",
   "metadata": {},
   "outputs": [
    {
     "name": "stdout",
     "output_type": "stream",
     "text": [
      "10/10 [==============================] - 0s 545us/step\n"
     ]
    },
    {
     "data": {
      "text/plain": [
       "([<matplotlib.lines.Line2D at 0x1423deda0>],\n",
       " <matplotlib.collections.PathCollection at 0x1418624d0>,\n",
       " <matplotlib.collections.PathCollection at 0x1421760e0>)"
      ]
     },
     "execution_count": 10,
     "metadata": {},
     "output_type": "execute_result"
    },
    {
     "data": {
      "image/png": "[encoded data removed]",
      "text/plain": [
       "<Figure size 640x480 with 1 Axes>"
      ]
     },
     "metadata": {},
     "output_type": "display_data"
    }
   ],
   "source": [
    "test = np.arange(300)\n",
    "plt.plot(test, model_train.predict(test), c=\"r\"), plt.scatter(X_train, y_train, c = \"b\"), plt.scatter(X_test, y_test, c=\"g\")"
   ]
  },
  {
   "cell_type": "markdown",
   "id": "0eec8927",
   "metadata": {},
   "source": [
    "Evaluate the model"
   ]
  },
  {
   "cell_type": "code",
   "execution_count": 11,
   "id": "355a668b",
   "metadata": {},
   "outputs": [
    {
     "name": "stdout",
     "output_type": "stream",
     "text": [
      "1/1 [==============================] - 0s 87ms/step - loss: 40.5862 - mse: 40.5862\n"
     ]
    },
    {
     "data": {
      "text/plain": [
       "[40.58617401123047, 40.58617401123047]"
      ]
     },
     "execution_count": 11,
     "metadata": {},
     "output_type": "execute_result"
    }
   ],
   "source": [
    "model_train.evaluate(X_test, y_test)"
   ]
  },
  {
   "cell_type": "code",
   "execution_count": 15,
   "id": "f75c9d48",
   "metadata": {},
   "outputs": [
    {
     "name": "stdout",
     "output_type": "stream",
     "text": [
      "Model: \"sequential_2\"\n",
      "_________________________________________________________________\n",
      " Layer (type)                Output Shape              Param #   \n",
      "=================================================================\n",
      " dense_6 (Dense)             (None, 1)                 2         \n",
      "                                                                 \n",
      " dense_7 (Dense)             (None, 4)                 8         \n",
      "                                                                 \n",
      " dense_8 (Dense)             (None, 4)                 20        \n",
      "                                                                 \n",
      " dense_9 (Dense)             (None, 1)                 5         \n",
      "                                                                 \n",
      "=================================================================\n",
      "Total params: 35 (140.00 Byte)\n",
      "Trainable params: 35 (140.00 Byte)\n",
      "Non-trainable params: 0 (0.00 Byte)\n",
      "_________________________________________________________________\n"
     ]
    }
   ],
   "source": [
    "model_train.summary()"
   ]
  },
  {
   "cell_type": "markdown",
   "id": "460234d9",
   "metadata": {},
   "source": [
    "Save models!"
   ]
  },
  {
   "cell_type": "code",
   "execution_count": 18,
   "id": "79d59f0d",
   "metadata": {},
   "outputs": [],
   "source": [
    "model_train.save(\"save_model.keras\")"
   ]
  },
  {
   "cell_type": "code",
   "execution_count": 19,
   "id": "33c3e0d6",
   "metadata": {},
   "outputs": [
    {
     "name": "stdout",
     "output_type": "stream",
     "text": [
      "Model: \"sequential_2\"\n",
      "_________________________________________________________________\n",
      " Layer (type)                Output Shape              Param #   \n",
      "=================================================================\n",
      " dense_6 (Dense)             (None, 1)                 2         \n",
      "                                                                 \n",
      " dense_7 (Dense)             (None, 4)                 8         \n",
      "                                                                 \n",
      " dense_8 (Dense)             (None, 4)                 20        \n",
      "                                                                 \n",
      " dense_9 (Dense)             (None, 1)                 5         \n",
      "                                                                 \n",
      "=================================================================\n",
      "Total params: 35 (140.00 Byte)\n",
      "Trainable params: 35 (140.00 Byte)\n",
      "Non-trainable params: 0 (0.00 Byte)\n",
      "_________________________________________________________________\n"
     ]
    }
   ],
   "source": [
    "# Load model\n",
    "newModel = tf.keras.models.load_model(\"save_model.keras\")\n",
    "newModel.summary()"
   ]
  },
  {
   "cell_type": "code",
   "execution_count": 20,
   "id": "64efc82a",
   "metadata": {},
   "outputs": [
    {
     "data": {
      "text/plain": [
       "Text(0.5, 0, 'epochs')"
      ]
     },
     "execution_count": 20,
     "metadata": {},
     "output_type": "execute_result"
    },
    {
     "data": {
      "image/png": "[encoded data removed]",
      "text/plain": [
       "<Figure size 640x480 with 1 Axes>"
      ]
     },
     "metadata": {},
     "output_type": "display_data"
    }
   ],
   "source": [
    "# Plot history\n",
    "import pandas as pd\n",
    "\n",
    "pd.DataFrame(history.history).plot()\n",
    "plt.ylabel(\"loss\")\n",
    "plt.xlabel(\"epochs\")"
   ]
  }
 ],
 "metadata": {
  "kernelspec": {
   "display_name": "Python 3 (ipykernel)",
   "language": "python",
   "name": "python3"
  },
  "language_info": {
   "codemirror_mode": {
    "name": "ipython",
    "version": 3
   },
   "file_extension": ".py",
   "mimetype": "text/x-python",
   "name": "python",
   "nbconvert_exporter": "python",
   "pygments_lexer": "ipython3",
   "version": "3.10.9"
  }
 },
 "nbformat": 4,
 "nbformat_minor": 5
}
